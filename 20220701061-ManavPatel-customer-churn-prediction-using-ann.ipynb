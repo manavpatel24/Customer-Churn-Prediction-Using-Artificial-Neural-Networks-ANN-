{
 "cells": [
  {
   "cell_type": "markdown",
   "id": "9d230604",
   "metadata": {
    "papermill": {
     "duration": 0.018328,
     "end_time": "2023-06-05T13:35:42.898145",
     "exception": false,
     "start_time": "2023-06-05T13:35:42.879817",
     "status": "completed"
    },
    "tags": []
   },
   "source": [
    "# **Import the Libraries**"
   ]
  },
  {
   "cell_type": "code",
   "execution_count": 1,
   "id": "4caeff69",
   "metadata": {
    "execution": {
     "iopub.execute_input": "2023-06-05T13:35:42.936507Z",
     "iopub.status.busy": "2023-06-05T13:35:42.935971Z",
     "iopub.status.idle": "2023-06-05T13:35:55.403989Z",
     "shell.execute_reply": "2023-06-05T13:35:55.402834Z"
    },
    "papermill": {
     "duration": 12.490536,
     "end_time": "2023-06-05T13:35:55.407054",
     "exception": false,
     "start_time": "2023-06-05T13:35:42.916518",
     "status": "completed"
    },
    "tags": []
   },
   "outputs": [
    {
     "name": "stderr",
     "output_type": "stream",
     "text": [
      "/opt/conda/lib/python3.10/site-packages/tensorflow_io/python/ops/__init__.py:98: UserWarning: unable to load libtensorflow_io_plugins.so: unable to open file: libtensorflow_io_plugins.so, from paths: ['/opt/conda/lib/python3.10/site-packages/tensorflow_io/python/ops/libtensorflow_io_plugins.so']\n",
      "caused by: ['/opt/conda/lib/python3.10/site-packages/tensorflow_io/python/ops/libtensorflow_io_plugins.so: undefined symbol: _ZN3tsl6StatusC1EN10tensorflow5error4CodeESt17basic_string_viewIcSt11char_traitsIcEENS_14SourceLocationE']\n",
      "  warnings.warn(f\"unable to load libtensorflow_io_plugins.so: {e}\")\n",
      "/opt/conda/lib/python3.10/site-packages/tensorflow_io/python/ops/__init__.py:104: UserWarning: file system plugins are not loaded: unable to open file: libtensorflow_io.so, from paths: ['/opt/conda/lib/python3.10/site-packages/tensorflow_io/python/ops/libtensorflow_io.so']\n",
      "caused by: ['/opt/conda/lib/python3.10/site-packages/tensorflow_io/python/ops/libtensorflow_io.so: undefined symbol: _ZTVN10tensorflow13GcsFileSystemE']\n",
      "  warnings.warn(f\"file system plugins are not loaded: {e}\")\n"
     ]
    }
   ],
   "source": [
    "import pandas as pd\n",
    "import numpy as np\n",
    "import matplotlib.pyplot as plt\n",
    "%matplotlib inline\n",
    "import seaborn as sns\n",
    "sns.set_style('darkgrid')\n",
    "from sklearn.model_selection import train_test_split\n",
    "from sklearn.preprocessing import StandardScaler\n",
    "from sklearn.utils import resample\n",
    "from sklearn.metrics import accuracy_score\n",
    "import tensorflow\n",
    "from tensorflow import keras\n",
    "from tensorflow.keras import Sequential\n",
    "from tensorflow.keras.layers import Dense"
   ]
  },
  {
   "cell_type": "markdown",
   "id": "af500af7",
   "metadata": {
    "papermill": {
     "duration": 0.017568,
     "end_time": "2023-06-05T13:35:55.442790",
     "exception": false,
     "start_time": "2023-06-05T13:35:55.425222",
     "status": "completed"
    },
    "tags": []
   },
   "source": [
    "# **Data Analysis & Visualization**"
   ]
  },
  {
   "cell_type": "code",
   "execution_count": 2,
   "id": "100609f5",
   "metadata": {
    "execution": {
     "iopub.execute_input": "2023-06-05T13:35:55.481141Z",
     "iopub.status.busy": "2023-06-05T13:35:55.480296Z",
     "iopub.status.idle": "2023-06-05T13:35:55.574938Z",
     "shell.execute_reply": "2023-06-05T13:35:55.573688Z"
    },
    "papermill": {
     "duration": 0.116867,
     "end_time": "2023-06-05T13:35:55.577593",
     "exception": false,
     "start_time": "2023-06-05T13:35:55.460726",
     "status": "completed"
    },
    "tags": []
   },
   "outputs": [
    {
     "data": {
      "text/html": [
       "<div>\n",
       "<style scoped>\n",
       "    .dataframe tbody tr th:only-of-type {\n",
       "        vertical-align: middle;\n",
       "    }\n",
       "\n",
       "    .dataframe tbody tr th {\n",
       "        vertical-align: top;\n",
       "    }\n",
       "\n",
       "    .dataframe thead th {\n",
       "        text-align: right;\n",
       "    }\n",
       "</style>\n",
       "<table border=\"1\" class=\"dataframe\">\n",
       "  <thead>\n",
       "    <tr style=\"text-align: right;\">\n",
       "      <th></th>\n",
       "      <th>RowNumber</th>\n",
       "      <th>CustomerId</th>\n",
       "      <th>Surname</th>\n",
       "      <th>CreditScore</th>\n",
       "      <th>Geography</th>\n",
       "      <th>Gender</th>\n",
       "      <th>Age</th>\n",
       "      <th>Tenure</th>\n",
       "      <th>Balance</th>\n",
       "      <th>NumOfProducts</th>\n",
       "      <th>HasCrCard</th>\n",
       "      <th>IsActiveMember</th>\n",
       "      <th>EstimatedSalary</th>\n",
       "      <th>Exited</th>\n",
       "    </tr>\n",
       "  </thead>\n",
       "  <tbody>\n",
       "    <tr>\n",
       "      <th>0</th>\n",
       "      <td>1</td>\n",
       "      <td>15634602</td>\n",
       "      <td>Hargrave</td>\n",
       "      <td>619</td>\n",
       "      <td>France</td>\n",
       "      <td>Female</td>\n",
       "      <td>42</td>\n",
       "      <td>2</td>\n",
       "      <td>0.00</td>\n",
       "      <td>1</td>\n",
       "      <td>1</td>\n",
       "      <td>1</td>\n",
       "      <td>101348.88</td>\n",
       "      <td>1</td>\n",
       "    </tr>\n",
       "    <tr>\n",
       "      <th>1</th>\n",
       "      <td>2</td>\n",
       "      <td>15647311</td>\n",
       "      <td>Hill</td>\n",
       "      <td>608</td>\n",
       "      <td>Spain</td>\n",
       "      <td>Female</td>\n",
       "      <td>41</td>\n",
       "      <td>1</td>\n",
       "      <td>83807.86</td>\n",
       "      <td>1</td>\n",
       "      <td>0</td>\n",
       "      <td>1</td>\n",
       "      <td>112542.58</td>\n",
       "      <td>0</td>\n",
       "    </tr>\n",
       "    <tr>\n",
       "      <th>2</th>\n",
       "      <td>3</td>\n",
       "      <td>15619304</td>\n",
       "      <td>Onio</td>\n",
       "      <td>502</td>\n",
       "      <td>France</td>\n",
       "      <td>Female</td>\n",
       "      <td>42</td>\n",
       "      <td>8</td>\n",
       "      <td>159660.80</td>\n",
       "      <td>3</td>\n",
       "      <td>1</td>\n",
       "      <td>0</td>\n",
       "      <td>113931.57</td>\n",
       "      <td>1</td>\n",
       "    </tr>\n",
       "    <tr>\n",
       "      <th>3</th>\n",
       "      <td>4</td>\n",
       "      <td>15701354</td>\n",
       "      <td>Boni</td>\n",
       "      <td>699</td>\n",
       "      <td>France</td>\n",
       "      <td>Female</td>\n",
       "      <td>39</td>\n",
       "      <td>1</td>\n",
       "      <td>0.00</td>\n",
       "      <td>2</td>\n",
       "      <td>0</td>\n",
       "      <td>0</td>\n",
       "      <td>93826.63</td>\n",
       "      <td>0</td>\n",
       "    </tr>\n",
       "    <tr>\n",
       "      <th>4</th>\n",
       "      <td>5</td>\n",
       "      <td>15737888</td>\n",
       "      <td>Mitchell</td>\n",
       "      <td>850</td>\n",
       "      <td>Spain</td>\n",
       "      <td>Female</td>\n",
       "      <td>43</td>\n",
       "      <td>2</td>\n",
       "      <td>125510.82</td>\n",
       "      <td>1</td>\n",
       "      <td>1</td>\n",
       "      <td>1</td>\n",
       "      <td>79084.10</td>\n",
       "      <td>0</td>\n",
       "    </tr>\n",
       "  </tbody>\n",
       "</table>\n",
       "</div>"
      ],
      "text/plain": [
       "   RowNumber  CustomerId   Surname  CreditScore Geography  Gender  Age  \\\n",
       "0          1    15634602  Hargrave          619    France  Female   42   \n",
       "1          2    15647311      Hill          608     Spain  Female   41   \n",
       "2          3    15619304      Onio          502    France  Female   42   \n",
       "3          4    15701354      Boni          699    France  Female   39   \n",
       "4          5    15737888  Mitchell          850     Spain  Female   43   \n",
       "\n",
       "   Tenure    Balance  NumOfProducts  HasCrCard  IsActiveMember  \\\n",
       "0       2       0.00              1          1               1   \n",
       "1       1   83807.86              1          0               1   \n",
       "2       8  159660.80              3          1               0   \n",
       "3       1       0.00              2          0               0   \n",
       "4       2  125510.82              1          1               1   \n",
       "\n",
       "   EstimatedSalary  Exited  \n",
       "0        101348.88       1  \n",
       "1        112542.58       0  \n",
       "2        113931.57       1  \n",
       "3         93826.63       0  \n",
       "4         79084.10       0  "
      ]
     },
     "execution_count": 2,
     "metadata": {},
     "output_type": "execute_result"
    }
   ],
   "source": [
    "# read the dataset\n",
    "df = pd.read_csv('/kaggle/input/credit-card-customer-churn-prediction/Churn_Modelling.csv')\n",
    "\n",
    "# see the first five rows of df\n",
    "df.head()"
   ]
  },
  {
   "cell_type": "code",
   "execution_count": 3,
   "id": "5885759e",
   "metadata": {
    "execution": {
     "iopub.execute_input": "2023-06-05T13:35:55.616153Z",
     "iopub.status.busy": "2023-06-05T13:35:55.615761Z",
     "iopub.status.idle": "2023-06-05T13:35:55.623094Z",
     "shell.execute_reply": "2023-06-05T13:35:55.621819Z"
    },
    "papermill": {
     "duration": 0.029444,
     "end_time": "2023-06-05T13:35:55.625485",
     "exception": false,
     "start_time": "2023-06-05T13:35:55.596041",
     "status": "completed"
    },
    "tags": []
   },
   "outputs": [
    {
     "data": {
      "text/plain": [
       "(10000, 14)"
      ]
     },
     "execution_count": 3,
     "metadata": {},
     "output_type": "execute_result"
    }
   ],
   "source": [
    "# see the shape of df\n",
    "df.shape"
   ]
  },
  {
   "cell_type": "code",
   "execution_count": 4,
   "id": "12dc7a98",
   "metadata": {
    "execution": {
     "iopub.execute_input": "2023-06-05T13:35:55.663862Z",
     "iopub.status.busy": "2023-06-05T13:35:55.663388Z",
     "iopub.status.idle": "2023-06-05T13:35:55.705970Z",
     "shell.execute_reply": "2023-06-05T13:35:55.704638Z"
    },
    "papermill": {
     "duration": 0.065238,
     "end_time": "2023-06-05T13:35:55.708868",
     "exception": false,
     "start_time": "2023-06-05T13:35:55.643630",
     "status": "completed"
    },
    "tags": []
   },
   "outputs": [
    {
     "name": "stdout",
     "output_type": "stream",
     "text": [
      "<class 'pandas.core.frame.DataFrame'>\n",
      "RangeIndex: 10000 entries, 0 to 9999\n",
      "Data columns (total 14 columns):\n",
      " #   Column           Non-Null Count  Dtype  \n",
      "---  ------           --------------  -----  \n",
      " 0   RowNumber        10000 non-null  int64  \n",
      " 1   CustomerId       10000 non-null  int64  \n",
      " 2   Surname          10000 non-null  object \n",
      " 3   CreditScore      10000 non-null  int64  \n",
      " 4   Geography        10000 non-null  object \n",
      " 5   Gender           10000 non-null  object \n",
      " 6   Age              10000 non-null  int64  \n",
      " 7   Tenure           10000 non-null  int64  \n",
      " 8   Balance          10000 non-null  float64\n",
      " 9   NumOfProducts    10000 non-null  int64  \n",
      " 10  HasCrCard        10000 non-null  int64  \n",
      " 11  IsActiveMember   10000 non-null  int64  \n",
      " 12  EstimatedSalary  10000 non-null  float64\n",
      " 13  Exited           10000 non-null  int64  \n",
      "dtypes: float64(2), int64(9), object(3)\n",
      "memory usage: 1.1+ MB\n"
     ]
    }
   ],
   "source": [
    "# see the information of df\n",
    "df.info()"
   ]
  },
  {
   "cell_type": "code",
   "execution_count": 5,
   "id": "b1ff48fd",
   "metadata": {
    "execution": {
     "iopub.execute_input": "2023-06-05T13:35:55.748579Z",
     "iopub.status.busy": "2023-06-05T13:35:55.747636Z",
     "iopub.status.idle": "2023-06-05T13:35:55.805851Z",
     "shell.execute_reply": "2023-06-05T13:35:55.804471Z"
    },
    "papermill": {
     "duration": 0.080994,
     "end_time": "2023-06-05T13:35:55.808498",
     "exception": false,
     "start_time": "2023-06-05T13:35:55.727504",
     "status": "completed"
    },
    "tags": []
   },
   "outputs": [
    {
     "data": {
      "text/html": [
       "<div>\n",
       "<style scoped>\n",
       "    .dataframe tbody tr th:only-of-type {\n",
       "        vertical-align: middle;\n",
       "    }\n",
       "\n",
       "    .dataframe tbody tr th {\n",
       "        vertical-align: top;\n",
       "    }\n",
       "\n",
       "    .dataframe thead th {\n",
       "        text-align: right;\n",
       "    }\n",
       "</style>\n",
       "<table border=\"1\" class=\"dataframe\">\n",
       "  <thead>\n",
       "    <tr style=\"text-align: right;\">\n",
       "      <th></th>\n",
       "      <th>RowNumber</th>\n",
       "      <th>CustomerId</th>\n",
       "      <th>CreditScore</th>\n",
       "      <th>Age</th>\n",
       "      <th>Tenure</th>\n",
       "      <th>Balance</th>\n",
       "      <th>NumOfProducts</th>\n",
       "      <th>HasCrCard</th>\n",
       "      <th>IsActiveMember</th>\n",
       "      <th>EstimatedSalary</th>\n",
       "      <th>Exited</th>\n",
       "    </tr>\n",
       "  </thead>\n",
       "  <tbody>\n",
       "    <tr>\n",
       "      <th>count</th>\n",
       "      <td>10000.00000</td>\n",
       "      <td>1.000000e+04</td>\n",
       "      <td>10000.000000</td>\n",
       "      <td>10000.000000</td>\n",
       "      <td>10000.000000</td>\n",
       "      <td>10000.000000</td>\n",
       "      <td>10000.000000</td>\n",
       "      <td>10000.00000</td>\n",
       "      <td>10000.000000</td>\n",
       "      <td>10000.000000</td>\n",
       "      <td>10000.000000</td>\n",
       "    </tr>\n",
       "    <tr>\n",
       "      <th>mean</th>\n",
       "      <td>5000.50000</td>\n",
       "      <td>1.569094e+07</td>\n",
       "      <td>650.528800</td>\n",
       "      <td>38.921800</td>\n",
       "      <td>5.012800</td>\n",
       "      <td>76485.889288</td>\n",
       "      <td>1.530200</td>\n",
       "      <td>0.70550</td>\n",
       "      <td>0.515100</td>\n",
       "      <td>100090.239881</td>\n",
       "      <td>0.203700</td>\n",
       "    </tr>\n",
       "    <tr>\n",
       "      <th>std</th>\n",
       "      <td>2886.89568</td>\n",
       "      <td>7.193619e+04</td>\n",
       "      <td>96.653299</td>\n",
       "      <td>10.487806</td>\n",
       "      <td>2.892174</td>\n",
       "      <td>62397.405202</td>\n",
       "      <td>0.581654</td>\n",
       "      <td>0.45584</td>\n",
       "      <td>0.499797</td>\n",
       "      <td>57510.492818</td>\n",
       "      <td>0.402769</td>\n",
       "    </tr>\n",
       "    <tr>\n",
       "      <th>min</th>\n",
       "      <td>1.00000</td>\n",
       "      <td>1.556570e+07</td>\n",
       "      <td>350.000000</td>\n",
       "      <td>18.000000</td>\n",
       "      <td>0.000000</td>\n",
       "      <td>0.000000</td>\n",
       "      <td>1.000000</td>\n",
       "      <td>0.00000</td>\n",
       "      <td>0.000000</td>\n",
       "      <td>11.580000</td>\n",
       "      <td>0.000000</td>\n",
       "    </tr>\n",
       "    <tr>\n",
       "      <th>25%</th>\n",
       "      <td>2500.75000</td>\n",
       "      <td>1.562853e+07</td>\n",
       "      <td>584.000000</td>\n",
       "      <td>32.000000</td>\n",
       "      <td>3.000000</td>\n",
       "      <td>0.000000</td>\n",
       "      <td>1.000000</td>\n",
       "      <td>0.00000</td>\n",
       "      <td>0.000000</td>\n",
       "      <td>51002.110000</td>\n",
       "      <td>0.000000</td>\n",
       "    </tr>\n",
       "    <tr>\n",
       "      <th>50%</th>\n",
       "      <td>5000.50000</td>\n",
       "      <td>1.569074e+07</td>\n",
       "      <td>652.000000</td>\n",
       "      <td>37.000000</td>\n",
       "      <td>5.000000</td>\n",
       "      <td>97198.540000</td>\n",
       "      <td>1.000000</td>\n",
       "      <td>1.00000</td>\n",
       "      <td>1.000000</td>\n",
       "      <td>100193.915000</td>\n",
       "      <td>0.000000</td>\n",
       "    </tr>\n",
       "    <tr>\n",
       "      <th>75%</th>\n",
       "      <td>7500.25000</td>\n",
       "      <td>1.575323e+07</td>\n",
       "      <td>718.000000</td>\n",
       "      <td>44.000000</td>\n",
       "      <td>7.000000</td>\n",
       "      <td>127644.240000</td>\n",
       "      <td>2.000000</td>\n",
       "      <td>1.00000</td>\n",
       "      <td>1.000000</td>\n",
       "      <td>149388.247500</td>\n",
       "      <td>0.000000</td>\n",
       "    </tr>\n",
       "    <tr>\n",
       "      <th>max</th>\n",
       "      <td>10000.00000</td>\n",
       "      <td>1.581569e+07</td>\n",
       "      <td>850.000000</td>\n",
       "      <td>92.000000</td>\n",
       "      <td>10.000000</td>\n",
       "      <td>250898.090000</td>\n",
       "      <td>4.000000</td>\n",
       "      <td>1.00000</td>\n",
       "      <td>1.000000</td>\n",
       "      <td>199992.480000</td>\n",
       "      <td>1.000000</td>\n",
       "    </tr>\n",
       "  </tbody>\n",
       "</table>\n",
       "</div>"
      ],
      "text/plain": [
       "         RowNumber    CustomerId   CreditScore           Age        Tenure  \\\n",
       "count  10000.00000  1.000000e+04  10000.000000  10000.000000  10000.000000   \n",
       "mean    5000.50000  1.569094e+07    650.528800     38.921800      5.012800   \n",
       "std     2886.89568  7.193619e+04     96.653299     10.487806      2.892174   \n",
       "min        1.00000  1.556570e+07    350.000000     18.000000      0.000000   \n",
       "25%     2500.75000  1.562853e+07    584.000000     32.000000      3.000000   \n",
       "50%     5000.50000  1.569074e+07    652.000000     37.000000      5.000000   \n",
       "75%     7500.25000  1.575323e+07    718.000000     44.000000      7.000000   \n",
       "max    10000.00000  1.581569e+07    850.000000     92.000000     10.000000   \n",
       "\n",
       "             Balance  NumOfProducts    HasCrCard  IsActiveMember  \\\n",
       "count   10000.000000   10000.000000  10000.00000    10000.000000   \n",
       "mean    76485.889288       1.530200      0.70550        0.515100   \n",
       "std     62397.405202       0.581654      0.45584        0.499797   \n",
       "min         0.000000       1.000000      0.00000        0.000000   \n",
       "25%         0.000000       1.000000      0.00000        0.000000   \n",
       "50%     97198.540000       1.000000      1.00000        1.000000   \n",
       "75%    127644.240000       2.000000      1.00000        1.000000   \n",
       "max    250898.090000       4.000000      1.00000        1.000000   \n",
       "\n",
       "       EstimatedSalary        Exited  \n",
       "count     10000.000000  10000.000000  \n",
       "mean     100090.239881      0.203700  \n",
       "std       57510.492818      0.402769  \n",
       "min          11.580000      0.000000  \n",
       "25%       51002.110000      0.000000  \n",
       "50%      100193.915000      0.000000  \n",
       "75%      149388.247500      0.000000  \n",
       "max      199992.480000      1.000000  "
      ]
     },
     "execution_count": 5,
     "metadata": {},
     "output_type": "execute_result"
    }
   ],
   "source": [
    "# see the descriptive statistics of df\n",
    "df.describe()"
   ]
  },
  {
   "cell_type": "code",
   "execution_count": 6,
   "id": "3ada83e8",
   "metadata": {
    "execution": {
     "iopub.execute_input": "2023-06-05T13:35:55.848169Z",
     "iopub.status.busy": "2023-06-05T13:35:55.847787Z",
     "iopub.status.idle": "2023-06-05T13:35:55.868440Z",
     "shell.execute_reply": "2023-06-05T13:35:55.867512Z"
    },
    "papermill": {
     "duration": 0.043908,
     "end_time": "2023-06-05T13:35:55.871196",
     "exception": false,
     "start_time": "2023-06-05T13:35:55.827288",
     "status": "completed"
    },
    "tags": []
   },
   "outputs": [
    {
     "data": {
      "text/plain": [
       "0"
      ]
     },
     "execution_count": 6,
     "metadata": {},
     "output_type": "execute_result"
    }
   ],
   "source": [
    "# see the duplicates values in dataset if exist then remove otherwise not.\n",
    "df.duplicated().sum()"
   ]
  },
  {
   "cell_type": "code",
   "execution_count": 7,
   "id": "f27f3144",
   "metadata": {
    "execution": {
     "iopub.execute_input": "2023-06-05T13:35:55.911602Z",
     "iopub.status.busy": "2023-06-05T13:35:55.911168Z",
     "iopub.status.idle": "2023-06-05T13:35:55.931597Z",
     "shell.execute_reply": "2023-06-05T13:35:55.930431Z"
    },
    "papermill": {
     "duration": 0.043778,
     "end_time": "2023-06-05T13:35:55.934111",
     "exception": false,
     "start_time": "2023-06-05T13:35:55.890333",
     "status": "completed"
    },
    "tags": []
   },
   "outputs": [
    {
     "data": {
      "text/plain": [
       "RowNumber          0\n",
       "CustomerId         0\n",
       "Surname            0\n",
       "CreditScore        0\n",
       "Geography          0\n",
       "Gender             0\n",
       "Age                0\n",
       "Tenure             0\n",
       "Balance            0\n",
       "NumOfProducts      0\n",
       "HasCrCard          0\n",
       "IsActiveMember     0\n",
       "EstimatedSalary    0\n",
       "Exited             0\n",
       "dtype: int64"
      ]
     },
     "execution_count": 7,
     "metadata": {},
     "output_type": "execute_result"
    }
   ],
   "source": [
    "# check the null values in the each columns of dataset if exist then remove otherwise not.\n",
    "df.isnull().sum()"
   ]
  },
  {
   "cell_type": "code",
   "execution_count": 8,
   "id": "69f5044b",
   "metadata": {
    "execution": {
     "iopub.execute_input": "2023-06-05T13:35:55.975507Z",
     "iopub.status.busy": "2023-06-05T13:35:55.974632Z",
     "iopub.status.idle": "2023-06-05T13:35:55.984041Z",
     "shell.execute_reply": "2023-06-05T13:35:55.982689Z"
    },
    "papermill": {
     "duration": 0.033465,
     "end_time": "2023-06-05T13:35:55.986839",
     "exception": false,
     "start_time": "2023-06-05T13:35:55.953374",
     "status": "completed"
    },
    "tags": []
   },
   "outputs": [],
   "source": [
    "# drop the irrelevant columns \n",
    "df.drop(columns=[\"RowNumber\", \"CustomerId\", \"Surname\"], inplace = True)"
   ]
  },
  {
   "cell_type": "code",
   "execution_count": 9,
   "id": "f2a77799",
   "metadata": {
    "execution": {
     "iopub.execute_input": "2023-06-05T13:35:56.032801Z",
     "iopub.status.busy": "2023-06-05T13:35:56.031610Z",
     "iopub.status.idle": "2023-06-05T13:35:56.049102Z",
     "shell.execute_reply": "2023-06-05T13:35:56.047813Z"
    },
    "papermill": {
     "duration": 0.041716,
     "end_time": "2023-06-05T13:35:56.051716",
     "exception": false,
     "start_time": "2023-06-05T13:35:56.010000",
     "status": "completed"
    },
    "tags": []
   },
   "outputs": [
    {
     "data": {
      "text/html": [
       "<div>\n",
       "<style scoped>\n",
       "    .dataframe tbody tr th:only-of-type {\n",
       "        vertical-align: middle;\n",
       "    }\n",
       "\n",
       "    .dataframe tbody tr th {\n",
       "        vertical-align: top;\n",
       "    }\n",
       "\n",
       "    .dataframe thead th {\n",
       "        text-align: right;\n",
       "    }\n",
       "</style>\n",
       "<table border=\"1\" class=\"dataframe\">\n",
       "  <thead>\n",
       "    <tr style=\"text-align: right;\">\n",
       "      <th></th>\n",
       "      <th>CreditScore</th>\n",
       "      <th>Geography</th>\n",
       "      <th>Gender</th>\n",
       "      <th>Age</th>\n",
       "      <th>Tenure</th>\n",
       "      <th>Balance</th>\n",
       "      <th>NumOfProducts</th>\n",
       "      <th>HasCrCard</th>\n",
       "      <th>IsActiveMember</th>\n",
       "      <th>EstimatedSalary</th>\n",
       "      <th>Exited</th>\n",
       "    </tr>\n",
       "  </thead>\n",
       "  <tbody>\n",
       "    <tr>\n",
       "      <th>0</th>\n",
       "      <td>619</td>\n",
       "      <td>France</td>\n",
       "      <td>Female</td>\n",
       "      <td>42</td>\n",
       "      <td>2</td>\n",
       "      <td>0.00</td>\n",
       "      <td>1</td>\n",
       "      <td>1</td>\n",
       "      <td>1</td>\n",
       "      <td>101348.88</td>\n",
       "      <td>1</td>\n",
       "    </tr>\n",
       "    <tr>\n",
       "      <th>1</th>\n",
       "      <td>608</td>\n",
       "      <td>Spain</td>\n",
       "      <td>Female</td>\n",
       "      <td>41</td>\n",
       "      <td>1</td>\n",
       "      <td>83807.86</td>\n",
       "      <td>1</td>\n",
       "      <td>0</td>\n",
       "      <td>1</td>\n",
       "      <td>112542.58</td>\n",
       "      <td>0</td>\n",
       "    </tr>\n",
       "    <tr>\n",
       "      <th>2</th>\n",
       "      <td>502</td>\n",
       "      <td>France</td>\n",
       "      <td>Female</td>\n",
       "      <td>42</td>\n",
       "      <td>8</td>\n",
       "      <td>159660.80</td>\n",
       "      <td>3</td>\n",
       "      <td>1</td>\n",
       "      <td>0</td>\n",
       "      <td>113931.57</td>\n",
       "      <td>1</td>\n",
       "    </tr>\n",
       "    <tr>\n",
       "      <th>3</th>\n",
       "      <td>699</td>\n",
       "      <td>France</td>\n",
       "      <td>Female</td>\n",
       "      <td>39</td>\n",
       "      <td>1</td>\n",
       "      <td>0.00</td>\n",
       "      <td>2</td>\n",
       "      <td>0</td>\n",
       "      <td>0</td>\n",
       "      <td>93826.63</td>\n",
       "      <td>0</td>\n",
       "    </tr>\n",
       "    <tr>\n",
       "      <th>4</th>\n",
       "      <td>850</td>\n",
       "      <td>Spain</td>\n",
       "      <td>Female</td>\n",
       "      <td>43</td>\n",
       "      <td>2</td>\n",
       "      <td>125510.82</td>\n",
       "      <td>1</td>\n",
       "      <td>1</td>\n",
       "      <td>1</td>\n",
       "      <td>79084.10</td>\n",
       "      <td>0</td>\n",
       "    </tr>\n",
       "  </tbody>\n",
       "</table>\n",
       "</div>"
      ],
      "text/plain": [
       "   CreditScore Geography  Gender  Age  Tenure    Balance  NumOfProducts  \\\n",
       "0          619    France  Female   42       2       0.00              1   \n",
       "1          608     Spain  Female   41       1   83807.86              1   \n",
       "2          502    France  Female   42       8  159660.80              3   \n",
       "3          699    France  Female   39       1       0.00              2   \n",
       "4          850     Spain  Female   43       2  125510.82              1   \n",
       "\n",
       "   HasCrCard  IsActiveMember  EstimatedSalary  Exited  \n",
       "0          1               1        101348.88       1  \n",
       "1          0               1        112542.58       0  \n",
       "2          1               0        113931.57       1  \n",
       "3          0               0         93826.63       0  \n",
       "4          1               1         79084.10       0  "
      ]
     },
     "execution_count": 9,
     "metadata": {},
     "output_type": "execute_result"
    }
   ],
   "source": [
    "# check again the first five rows of df after drop the irrelevant columns\n",
    "df.head()"
   ]
  },
  {
   "cell_type": "code",
   "execution_count": 10,
   "id": "82e413df",
   "metadata": {
    "execution": {
     "iopub.execute_input": "2023-06-05T13:35:56.093325Z",
     "iopub.status.busy": "2023-06-05T13:35:56.092926Z",
     "iopub.status.idle": "2023-06-05T13:35:56.103259Z",
     "shell.execute_reply": "2023-06-05T13:35:56.101954Z"
    },
    "papermill": {
     "duration": 0.034728,
     "end_time": "2023-06-05T13:35:56.105793",
     "exception": false,
     "start_time": "2023-06-05T13:35:56.071065",
     "status": "completed"
    },
    "tags": []
   },
   "outputs": [
    {
     "data": {
      "text/plain": [
       "France     5014\n",
       "Germany    2509\n",
       "Spain      2477\n",
       "Name: Geography, dtype: int64"
      ]
     },
     "execution_count": 10,
     "metadata": {},
     "output_type": "execute_result"
    }
   ],
   "source": [
    "# check the value counts of \"Geography\" column.\n",
    "df_geography = df['Geography'].value_counts()\n",
    "df_geography"
   ]
  },
  {
   "cell_type": "code",
   "execution_count": 11,
   "id": "8ffd3903",
   "metadata": {
    "execution": {
     "iopub.execute_input": "2023-06-05T13:35:56.148324Z",
     "iopub.status.busy": "2023-06-05T13:35:56.147935Z",
     "iopub.status.idle": "2023-06-05T13:35:56.563323Z",
     "shell.execute_reply": "2023-06-05T13:35:56.562121Z"
    },
    "papermill": {
     "duration": 0.439791,
     "end_time": "2023-06-05T13:35:56.566227",
     "exception": false,
     "start_time": "2023-06-05T13:35:56.126436",
     "status": "completed"
    },
    "tags": []
   },
   "outputs": [
    {
     "data": {
      "image/png": "[encoded data removed]",
      "text/plain": [
       "<Figure size 1200x600 with 1 Axes>"
      ]
     },
     "metadata": {},
     "output_type": "display_data"
    }
   ],
   "source": [
    "# let's perform univarient eda on \"Geography\" column. \n",
    "plt.figure(figsize=(12,6))\n",
    "res=sns.barplot(x=df_geography, y=df_geography.index)\n",
    "res.set_yticklabels(res.get_ymajorticklabels(), fontsize = 16, color='black')\n",
    "plt.xlabel('Value Counts of Customers Geographically',fontsize = 16, color='black')\n",
    "plt.ylabel('Geography Names',fontsize = 16, color='black')\n",
    "plt.title('Customers Geographically Data',fontsize = 16, color='black')\n",
    "plt.show()"
   ]
  },
  {
   "cell_type": "code",
   "execution_count": 12,
   "id": "57732772",
   "metadata": {
    "execution": {
     "iopub.execute_input": "2023-06-05T13:35:56.609264Z",
     "iopub.status.busy": "2023-06-05T13:35:56.608037Z",
     "iopub.status.idle": "2023-06-05T13:35:56.619046Z",
     "shell.execute_reply": "2023-06-05T13:35:56.617923Z"
    },
    "papermill": {
     "duration": 0.034946,
     "end_time": "2023-06-05T13:35:56.621348",
     "exception": false,
     "start_time": "2023-06-05T13:35:56.586402",
     "status": "completed"
    },
    "tags": []
   },
   "outputs": [
    {
     "data": {
      "text/plain": [
       "Male      5457\n",
       "Female    4543\n",
       "Name: Gender, dtype: int64"
      ]
     },
     "execution_count": 12,
     "metadata": {},
     "output_type": "execute_result"
    }
   ],
   "source": [
    "# check the value counts of \"Gender\" column.\n",
    "df_gender = df['Gender'].value_counts()\n",
    "df_gender"
   ]
  },
  {
   "cell_type": "code",
   "execution_count": 13,
   "id": "764c2805",
   "metadata": {
    "execution": {
     "iopub.execute_input": "2023-06-05T13:35:56.664413Z",
     "iopub.status.busy": "2023-06-05T13:35:56.663107Z",
     "iopub.status.idle": "2023-06-05T13:35:57.034159Z",
     "shell.execute_reply": "2023-06-05T13:35:57.032671Z"
    },
    "papermill": {
     "duration": 0.396008,
     "end_time": "2023-06-05T13:35:57.037461",
     "exception": false,
     "start_time": "2023-06-05T13:35:56.641453",
     "status": "completed"
    },
    "tags": []
   },
   "outputs": [
    {
     "data": {
      "image/png": "[encoded data removed]",
      "text/plain": [
       "<Figure size 1200x600 with 1 Axes>"
      ]
     },
     "metadata": {},
     "output_type": "display_data"
    }
   ],
   "source": [
    "# let's perform univarient eda on \"Gender\" column. \n",
    "plt.figure(figsize=(12,6))\n",
    "res=sns.barplot(x=df_gender, y=df_gender.index)\n",
    "res.set_yticklabels(res.get_ymajorticklabels(), fontsize = 16, color='black')\n",
    "plt.xlabel('Value Counts of Customers Gender',fontsize = 16, color='black')\n",
    "plt.ylabel('Gender Names',fontsize = 16, color='black')\n",
    "plt.title('Customers Genders Data',fontsize = 16, color='black')\n",
    "plt.show()"
   ]
  },
  {
   "cell_type": "code",
   "execution_count": 14,
   "id": "d5381d00",
   "metadata": {
    "execution": {
     "iopub.execute_input": "2023-06-05T13:35:57.082548Z",
     "iopub.status.busy": "2023-06-05T13:35:57.082146Z",
     "iopub.status.idle": "2023-06-05T13:35:57.093862Z",
     "shell.execute_reply": "2023-06-05T13:35:57.092414Z"
    },
    "papermill": {
     "duration": 0.037828,
     "end_time": "2023-06-05T13:35:57.096547",
     "exception": false,
     "start_time": "2023-06-05T13:35:57.058719",
     "status": "completed"
    },
    "tags": []
   },
   "outputs": [
    {
     "data": {
      "text/plain": [
       "1    5084\n",
       "2    4590\n",
       "3     266\n",
       "4      60\n",
       "Name: NumOfProducts, dtype: int64"
      ]
     },
     "execution_count": 14,
     "metadata": {},
     "output_type": "execute_result"
    }
   ],
   "source": [
    "# check the value counts of \"number of products\" column.\n",
    "df_nop = df['NumOfProducts'].value_counts()\n",
    "df_nop"
   ]
  },
  {
   "cell_type": "code",
   "execution_count": 15,
   "id": "82063545",
   "metadata": {
    "execution": {
     "iopub.execute_input": "2023-06-05T13:35:57.143855Z",
     "iopub.status.busy": "2023-06-05T13:35:57.143101Z",
     "iopub.status.idle": "2023-06-05T13:35:57.545149Z",
     "shell.execute_reply": "2023-06-05T13:35:57.543730Z"
    },
    "papermill": {
     "duration": 0.428803,
     "end_time": "2023-06-05T13:35:57.548205",
     "exception": false,
     "start_time": "2023-06-05T13:35:57.119402",
     "status": "completed"
    },
    "tags": []
   },
   "outputs": [
    {
     "name": "stderr",
     "output_type": "stream",
     "text": [
      "/tmp/ipykernel_20/1830261993.py:4: UserWarning: FixedFormatter should only be used together with FixedLocator\n",
      "  res.set_yticklabels(res.get_ymajorticklabels(), fontsize = 16, color='black')\n"
     ]
    },
    {
     "data": {
      "image/png": "[encoded data removed]",
      "text/plain": [
       "<Figure size 1200x800 with 1 Axes>"
      ]
     },
     "metadata": {},
     "output_type": "display_data"
    }
   ],
   "source": [
    "# let's perform univarient eda on \"number of products\" column.\n",
    "plt.figure(figsize=(12,8))\n",
    "res=sns.barplot(y=df_nop, x=df_nop.index)\n",
    "res.set_yticklabels(res.get_ymajorticklabels(), fontsize = 16, color='black')\n",
    "plt.ylabel('Value Counts of Customers Usage of Bank Products',fontsize = 16, color='black')\n",
    "plt.xlabel('Product Value',fontsize = 16, color='black')\n",
    "plt.title('How many products of bank customer use',fontsize = 16, color='black')\n",
    "plt.show()"
   ]
  },
  {
   "cell_type": "code",
   "execution_count": 16,
   "id": "2538b480",
   "metadata": {
    "execution": {
     "iopub.execute_input": "2023-06-05T13:35:57.596261Z",
     "iopub.status.busy": "2023-06-05T13:35:57.595859Z",
     "iopub.status.idle": "2023-06-05T13:35:57.605726Z",
     "shell.execute_reply": "2023-06-05T13:35:57.604478Z"
    },
    "papermill": {
     "duration": 0.036667,
     "end_time": "2023-06-05T13:35:57.608124",
     "exception": false,
     "start_time": "2023-06-05T13:35:57.571457",
     "status": "completed"
    },
    "tags": []
   },
   "outputs": [
    {
     "data": {
      "text/plain": [
       "1    7055\n",
       "0    2945\n",
       "Name: HasCrCard, dtype: int64"
      ]
     },
     "execution_count": 16,
     "metadata": {},
     "output_type": "execute_result"
    }
   ],
   "source": [
    "# check the value counts of \"HasCrCard\" column.\n",
    "df_crc = df['HasCrCard'].value_counts()\n",
    "df_crc"
   ]
  },
  {
   "cell_type": "code",
   "execution_count": 17,
   "id": "5ff275e1",
   "metadata": {
    "execution": {
     "iopub.execute_input": "2023-06-05T13:35:57.654824Z",
     "iopub.status.busy": "2023-06-05T13:35:57.654394Z",
     "iopub.status.idle": "2023-06-05T13:35:57.961319Z",
     "shell.execute_reply": "2023-06-05T13:35:57.960023Z"
    },
    "papermill": {
     "duration": 0.334115,
     "end_time": "2023-06-05T13:35:57.964339",
     "exception": false,
     "start_time": "2023-06-05T13:35:57.630224",
     "status": "completed"
    },
    "tags": []
   },
   "outputs": [
    {
     "name": "stderr",
     "output_type": "stream",
     "text": [
      "/tmp/ipykernel_20/486259482.py:4: UserWarning: FixedFormatter should only be used together with FixedLocator\n",
      "  res.set_yticklabels(res.get_ymajorticklabels(), fontsize = 16, color='black')\n"
     ]
    },
    {
     "data": {
      "image/png": "[encoded data removed]",
      "text/plain": [
       "<Figure size 1200x800 with 1 Axes>"
      ]
     },
     "metadata": {},
     "output_type": "display_data"
    }
   ],
   "source": [
    "# let's perform univarient eda on \"HasCrCard\" column.\n",
    "plt.figure(figsize=(12,8))\n",
    "res=sns.barplot(y=df_crc, x=df_crc.index)\n",
    "res.set_yticklabels(res.get_ymajorticklabels(), fontsize = 16, color='black')\n",
    "plt.ylabel('Value Counts of Customers Has a Credit Card or Not',fontsize = 16, color='black')\n",
    "plt.xlabel('Customer have credit card or not',fontsize = 16, color='black')\n",
    "plt.title('How many customers have credit cards',fontsize = 16, color='black')\n",
    "plt.show()"
   ]
  },
  {
   "cell_type": "code",
   "execution_count": 18,
   "id": "c9f39732",
   "metadata": {
    "execution": {
     "iopub.execute_input": "2023-06-05T13:35:58.015203Z",
     "iopub.status.busy": "2023-06-05T13:35:58.013901Z",
     "iopub.status.idle": "2023-06-05T13:35:58.024623Z",
     "shell.execute_reply": "2023-06-05T13:35:58.023215Z"
    },
    "papermill": {
     "duration": 0.039896,
     "end_time": "2023-06-05T13:35:58.027215",
     "exception": false,
     "start_time": "2023-06-05T13:35:57.987319",
     "status": "completed"
    },
    "tags": []
   },
   "outputs": [
    {
     "data": {
      "text/plain": [
       "1    5151\n",
       "0    4849\n",
       "Name: IsActiveMember, dtype: int64"
      ]
     },
     "execution_count": 18,
     "metadata": {},
     "output_type": "execute_result"
    }
   ],
   "source": [
    "# check the value counts of \"IsActiveMember\" column.\n",
    "df_iam = df['IsActiveMember'].value_counts()\n",
    "df_iam"
   ]
  },
  {
   "cell_type": "code",
   "execution_count": 19,
   "id": "c25cb957",
   "metadata": {
    "execution": {
     "iopub.execute_input": "2023-06-05T13:35:58.075035Z",
     "iopub.status.busy": "2023-06-05T13:35:58.074580Z",
     "iopub.status.idle": "2023-06-05T13:35:58.351512Z",
     "shell.execute_reply": "2023-06-05T13:35:58.350365Z"
    },
    "papermill": {
     "duration": 0.304321,
     "end_time": "2023-06-05T13:35:58.354557",
     "exception": false,
     "start_time": "2023-06-05T13:35:58.050236",
     "status": "completed"
    },
    "tags": []
   },
   "outputs": [
    {
     "name": "stderr",
     "output_type": "stream",
     "text": [
      "/tmp/ipykernel_20/2775840329.py:4: UserWarning: FixedFormatter should only be used together with FixedLocator\n",
      "  res.set_yticklabels(res.get_ymajorticklabels(), fontsize = 16, color='black')\n"
     ]
    },
    {
     "data": {
      "image/png": "[encoded data removed]",
      "text/plain": [
       "<Figure size 1200x800 with 1 Axes>"
      ]
     },
     "metadata": {},
     "output_type": "display_data"
    }
   ],
   "source": [
    "# let's perform univarient eda on \"IsActiveMember\" column.\n",
    "plt.figure(figsize=(12,8))\n",
    "res=sns.barplot(y=df_iam, x=df_iam.index)\n",
    "res.set_yticklabels(res.get_ymajorticklabels(), fontsize = 16, color='black')\n",
    "plt.ylabel('Value Counts of Customer IsActiveMember or Not',fontsize = 16, color='black')\n",
    "plt.xlabel('Customer IsActiveMember or Not',fontsize = 16, color='black')\n",
    "plt.title('How many customers is Active or Not Active',fontsize = 18, color='black')\n",
    "plt.show()"
   ]
  },
  {
   "cell_type": "code",
   "execution_count": 20,
   "id": "fc7cb9da",
   "metadata": {
    "execution": {
     "iopub.execute_input": "2023-06-05T13:35:58.405617Z",
     "iopub.status.busy": "2023-06-05T13:35:58.404781Z",
     "iopub.status.idle": "2023-06-05T13:35:58.414911Z",
     "shell.execute_reply": "2023-06-05T13:35:58.413541Z"
    },
    "papermill": {
     "duration": 0.038834,
     "end_time": "2023-06-05T13:35:58.417693",
     "exception": false,
     "start_time": "2023-06-05T13:35:58.378859",
     "status": "completed"
    },
    "tags": []
   },
   "outputs": [
    {
     "data": {
      "text/plain": [
       "0    7963\n",
       "1    2037\n",
       "Name: Exited, dtype: int64"
      ]
     },
     "execution_count": 20,
     "metadata": {},
     "output_type": "execute_result"
    }
   ],
   "source": [
    "# check the value counts of \"Exited\" target column.\n",
    "df_exit = df['Exited'].value_counts()\n",
    "df_exit"
   ]
  },
  {
   "cell_type": "code",
   "execution_count": 21,
   "id": "43f7232c",
   "metadata": {
    "execution": {
     "iopub.execute_input": "2023-06-05T13:35:58.467607Z",
     "iopub.status.busy": "2023-06-05T13:35:58.467206Z",
     "iopub.status.idle": "2023-06-05T13:35:58.843798Z",
     "shell.execute_reply": "2023-06-05T13:35:58.842608Z"
    },
    "papermill": {
     "duration": 0.404619,
     "end_time": "2023-06-05T13:35:58.846313",
     "exception": false,
     "start_time": "2023-06-05T13:35:58.441694",
     "status": "completed"
    },
    "tags": []
   },
   "outputs": [
    {
     "name": "stderr",
     "output_type": "stream",
     "text": [
      "/tmp/ipykernel_20/460548639.py:4: UserWarning: FixedFormatter should only be used together with FixedLocator\n",
      "  res.set_yticklabels(res.get_ymajorticklabels(), fontsize = 16, color='black')\n"
     ]
    },
    {
     "data": {
      "image/png": "[encoded data removed]",
      "text/plain": [
       "<Figure size 1200x800 with 1 Axes>"
      ]
     },
     "metadata": {},
     "output_type": "display_data"
    }
   ],
   "source": [
    "# # let's perform univarient eda on \"Exited\" target column.\n",
    "plt.figure(figsize=(12,8))\n",
    "res=sns.barplot(y=df_exit, x=df_exit.index)\n",
    "res.set_yticklabels(res.get_ymajorticklabels(), fontsize = 16, color='black')\n",
    "plt.ylabel('Value Counts of Customer Churn or Not',fontsize = 16, color='black')\n",
    "plt.xlabel('Customer Curn or Not',fontsize = 16, color='black')\n",
    "plt.title('How many customers is Churn or Not Churn',fontsize = 18, color='black')\n",
    "plt.show()"
   ]
  },
  {
   "cell_type": "markdown",
   "id": "61deb32f",
   "metadata": {
    "papermill": {
     "duration": 0.024825,
     "end_time": "2023-06-05T13:35:58.895990",
     "exception": false,
     "start_time": "2023-06-05T13:35:58.871165",
     "status": "completed"
    },
    "tags": []
   },
   "source": [
    "# **Apply One Hot Encoding Technique on Gender & Geography Column**"
   ]
  },
  {
   "cell_type": "code",
   "execution_count": 22,
   "id": "020f340b",
   "metadata": {
    "execution": {
     "iopub.execute_input": "2023-06-05T13:35:58.948865Z",
     "iopub.status.busy": "2023-06-05T13:35:58.947734Z",
     "iopub.status.idle": "2023-06-05T13:35:58.963367Z",
     "shell.execute_reply": "2023-06-05T13:35:58.962377Z"
    },
    "papermill": {
     "duration": 0.045126,
     "end_time": "2023-06-05T13:35:58.966091",
     "exception": false,
     "start_time": "2023-06-05T13:35:58.920965",
     "status": "completed"
    },
    "tags": []
   },
   "outputs": [],
   "source": [
    "# use pandas dummies funtion for one hot encodeing \n",
    "df = pd.get_dummies(df, columns=[\"Gender\", \"Geography\"], drop_first=True)"
   ]
  },
  {
   "cell_type": "code",
   "execution_count": 23,
   "id": "31475eb8",
   "metadata": {
    "execution": {
     "iopub.execute_input": "2023-06-05T13:35:59.024237Z",
     "iopub.status.busy": "2023-06-05T13:35:59.023765Z",
     "iopub.status.idle": "2023-06-05T13:35:59.043091Z",
     "shell.execute_reply": "2023-06-05T13:35:59.041397Z"
    },
    "papermill": {
     "duration": 0.055404,
     "end_time": "2023-06-05T13:35:59.046677",
     "exception": false,
     "start_time": "2023-06-05T13:35:58.991273",
     "status": "completed"
    },
    "tags": []
   },
   "outputs": [
    {
     "data": {
      "text/html": [
       "<div>\n",
       "<style scoped>\n",
       "    .dataframe tbody tr th:only-of-type {\n",
       "        vertical-align: middle;\n",
       "    }\n",
       "\n",
       "    .dataframe tbody tr th {\n",
       "        vertical-align: top;\n",
       "    }\n",
       "\n",
       "    .dataframe thead th {\n",
       "        text-align: right;\n",
       "    }\n",
       "</style>\n",
       "<table border=\"1\" class=\"dataframe\">\n",
       "  <thead>\n",
       "    <tr style=\"text-align: right;\">\n",
       "      <th></th>\n",
       "      <th>CreditScore</th>\n",
       "      <th>Age</th>\n",
       "      <th>Tenure</th>\n",
       "      <th>Balance</th>\n",
       "      <th>NumOfProducts</th>\n",
       "      <th>HasCrCard</th>\n",
       "      <th>IsActiveMember</th>\n",
       "      <th>EstimatedSalary</th>\n",
       "      <th>Exited</th>\n",
       "      <th>Gender_Male</th>\n",
       "      <th>Geography_Germany</th>\n",
       "      <th>Geography_Spain</th>\n",
       "    </tr>\n",
       "  </thead>\n",
       "  <tbody>\n",
       "    <tr>\n",
       "      <th>0</th>\n",
       "      <td>619</td>\n",
       "      <td>42</td>\n",
       "      <td>2</td>\n",
       "      <td>0.00</td>\n",
       "      <td>1</td>\n",
       "      <td>1</td>\n",
       "      <td>1</td>\n",
       "      <td>101348.88</td>\n",
       "      <td>1</td>\n",
       "      <td>0</td>\n",
       "      <td>0</td>\n",
       "      <td>0</td>\n",
       "    </tr>\n",
       "    <tr>\n",
       "      <th>1</th>\n",
       "      <td>608</td>\n",
       "      <td>41</td>\n",
       "      <td>1</td>\n",
       "      <td>83807.86</td>\n",
       "      <td>1</td>\n",
       "      <td>0</td>\n",
       "      <td>1</td>\n",
       "      <td>112542.58</td>\n",
       "      <td>0</td>\n",
       "      <td>0</td>\n",
       "      <td>0</td>\n",
       "      <td>1</td>\n",
       "    </tr>\n",
       "    <tr>\n",
       "      <th>2</th>\n",
       "      <td>502</td>\n",
       "      <td>42</td>\n",
       "      <td>8</td>\n",
       "      <td>159660.80</td>\n",
       "      <td>3</td>\n",
       "      <td>1</td>\n",
       "      <td>0</td>\n",
       "      <td>113931.57</td>\n",
       "      <td>1</td>\n",
       "      <td>0</td>\n",
       "      <td>0</td>\n",
       "      <td>0</td>\n",
       "    </tr>\n",
       "    <tr>\n",
       "      <th>3</th>\n",
       "      <td>699</td>\n",
       "      <td>39</td>\n",
       "      <td>1</td>\n",
       "      <td>0.00</td>\n",
       "      <td>2</td>\n",
       "      <td>0</td>\n",
       "      <td>0</td>\n",
       "      <td>93826.63</td>\n",
       "      <td>0</td>\n",
       "      <td>0</td>\n",
       "      <td>0</td>\n",
       "      <td>0</td>\n",
       "    </tr>\n",
       "    <tr>\n",
       "      <th>4</th>\n",
       "      <td>850</td>\n",
       "      <td>43</td>\n",
       "      <td>2</td>\n",
       "      <td>125510.82</td>\n",
       "      <td>1</td>\n",
       "      <td>1</td>\n",
       "      <td>1</td>\n",
       "      <td>79084.10</td>\n",
       "      <td>0</td>\n",
       "      <td>0</td>\n",
       "      <td>0</td>\n",
       "      <td>1</td>\n",
       "    </tr>\n",
       "  </tbody>\n",
       "</table>\n",
       "</div>"
      ],
      "text/plain": [
       "   CreditScore  Age  Tenure    Balance  NumOfProducts  HasCrCard  \\\n",
       "0          619   42       2       0.00              1          1   \n",
       "1          608   41       1   83807.86              1          0   \n",
       "2          502   42       8  159660.80              3          1   \n",
       "3          699   39       1       0.00              2          0   \n",
       "4          850   43       2  125510.82              1          1   \n",
       "\n",
       "   IsActiveMember  EstimatedSalary  Exited  Gender_Male  Geography_Germany  \\\n",
       "0               1        101348.88       1            0                  0   \n",
       "1               1        112542.58       0            0                  0   \n",
       "2               0        113931.57       1            0                  0   \n",
       "3               0         93826.63       0            0                  0   \n",
       "4               1         79084.10       0            0                  0   \n",
       "\n",
       "   Geography_Spain  \n",
       "0                0  \n",
       "1                1  \n",
       "2                0  \n",
       "3                0  \n",
       "4                1  "
      ]
     },
     "execution_count": 23,
     "metadata": {},
     "output_type": "execute_result"
    }
   ],
   "source": [
    "# check again the df after one hot encoding method apply\n",
    "df.head()"
   ]
  },
  {
   "cell_type": "markdown",
   "id": "eaeb0266",
   "metadata": {
    "papermill": {
     "duration": 0.02562,
     "end_time": "2023-06-05T13:35:59.097958",
     "exception": false,
     "start_time": "2023-06-05T13:35:59.072338",
     "status": "completed"
    },
    "tags": []
   },
   "source": [
    "# **Let's Handle the Imbalanced Target Column and Balanced it**"
   ]
  },
  {
   "cell_type": "code",
   "execution_count": 24,
   "id": "632849f6",
   "metadata": {
    "execution": {
     "iopub.execute_input": "2023-06-05T13:35:59.152391Z",
     "iopub.status.busy": "2023-06-05T13:35:59.151233Z",
     "iopub.status.idle": "2023-06-05T13:35:59.164714Z",
     "shell.execute_reply": "2023-06-05T13:35:59.163831Z"
    },
    "papermill": {
     "duration": 0.043764,
     "end_time": "2023-06-05T13:35:59.167321",
     "exception": false,
     "start_time": "2023-06-05T13:35:59.123557",
     "status": "completed"
    },
    "tags": []
   },
   "outputs": [],
   "source": [
    "# Separate majority and minority classes\n",
    "majority_class = df[df['Exited'] == 0]\n",
    "minority_class = df[df['Exited'] == 1]\n",
    "\n",
    "# Upsample the minority class\n",
    "upsampled_minority = resample(minority_class,\n",
    "                              replace=True,  # Sample with replacement\n",
    "                              n_samples=len(majority_class),  # Match the number of majority class samples\n",
    "                              random_state=42)  # Set random state for reproducibility\n",
    "\n",
    "# Combine the upsampled minority class with the majority class\n",
    "balanced_data = pd.concat([majority_class, upsampled_minority])"
   ]
  },
  {
   "cell_type": "code",
   "execution_count": 25,
   "id": "3a8a4be8",
   "metadata": {
    "execution": {
     "iopub.execute_input": "2023-06-05T13:35:59.221951Z",
     "iopub.status.busy": "2023-06-05T13:35:59.221514Z",
     "iopub.status.idle": "2023-06-05T13:35:59.243472Z",
     "shell.execute_reply": "2023-06-05T13:35:59.242266Z"
    },
    "papermill": {
     "duration": 0.052864,
     "end_time": "2023-06-05T13:35:59.246153",
     "exception": false,
     "start_time": "2023-06-05T13:35:59.193289",
     "status": "completed"
    },
    "tags": []
   },
   "outputs": [
    {
     "data": {
      "text/html": [
       "<div>\n",
       "<style scoped>\n",
       "    .dataframe tbody tr th:only-of-type {\n",
       "        vertical-align: middle;\n",
       "    }\n",
       "\n",
       "    .dataframe tbody tr th {\n",
       "        vertical-align: top;\n",
       "    }\n",
       "\n",
       "    .dataframe thead th {\n",
       "        text-align: right;\n",
       "    }\n",
       "</style>\n",
       "<table border=\"1\" class=\"dataframe\">\n",
       "  <thead>\n",
       "    <tr style=\"text-align: right;\">\n",
       "      <th></th>\n",
       "      <th>CreditScore</th>\n",
       "      <th>Age</th>\n",
       "      <th>Tenure</th>\n",
       "      <th>Balance</th>\n",
       "      <th>NumOfProducts</th>\n",
       "      <th>HasCrCard</th>\n",
       "      <th>IsActiveMember</th>\n",
       "      <th>EstimatedSalary</th>\n",
       "      <th>Exited</th>\n",
       "      <th>Gender_Male</th>\n",
       "      <th>Geography_Germany</th>\n",
       "      <th>Geography_Spain</th>\n",
       "    </tr>\n",
       "  </thead>\n",
       "  <tbody>\n",
       "    <tr>\n",
       "      <th>1</th>\n",
       "      <td>608</td>\n",
       "      <td>41</td>\n",
       "      <td>1</td>\n",
       "      <td>83807.86</td>\n",
       "      <td>1</td>\n",
       "      <td>0</td>\n",
       "      <td>1</td>\n",
       "      <td>112542.58</td>\n",
       "      <td>0</td>\n",
       "      <td>0</td>\n",
       "      <td>0</td>\n",
       "      <td>1</td>\n",
       "    </tr>\n",
       "    <tr>\n",
       "      <th>3</th>\n",
       "      <td>699</td>\n",
       "      <td>39</td>\n",
       "      <td>1</td>\n",
       "      <td>0.00</td>\n",
       "      <td>2</td>\n",
       "      <td>0</td>\n",
       "      <td>0</td>\n",
       "      <td>93826.63</td>\n",
       "      <td>0</td>\n",
       "      <td>0</td>\n",
       "      <td>0</td>\n",
       "      <td>0</td>\n",
       "    </tr>\n",
       "    <tr>\n",
       "      <th>4</th>\n",
       "      <td>850</td>\n",
       "      <td>43</td>\n",
       "      <td>2</td>\n",
       "      <td>125510.82</td>\n",
       "      <td>1</td>\n",
       "      <td>1</td>\n",
       "      <td>1</td>\n",
       "      <td>79084.10</td>\n",
       "      <td>0</td>\n",
       "      <td>0</td>\n",
       "      <td>0</td>\n",
       "      <td>1</td>\n",
       "    </tr>\n",
       "    <tr>\n",
       "      <th>6</th>\n",
       "      <td>822</td>\n",
       "      <td>50</td>\n",
       "      <td>7</td>\n",
       "      <td>0.00</td>\n",
       "      <td>2</td>\n",
       "      <td>1</td>\n",
       "      <td>1</td>\n",
       "      <td>10062.80</td>\n",
       "      <td>0</td>\n",
       "      <td>1</td>\n",
       "      <td>0</td>\n",
       "      <td>0</td>\n",
       "    </tr>\n",
       "    <tr>\n",
       "      <th>8</th>\n",
       "      <td>501</td>\n",
       "      <td>44</td>\n",
       "      <td>4</td>\n",
       "      <td>142051.07</td>\n",
       "      <td>2</td>\n",
       "      <td>0</td>\n",
       "      <td>1</td>\n",
       "      <td>74940.50</td>\n",
       "      <td>0</td>\n",
       "      <td>1</td>\n",
       "      <td>0</td>\n",
       "      <td>0</td>\n",
       "    </tr>\n",
       "    <tr>\n",
       "      <th>...</th>\n",
       "      <td>...</td>\n",
       "      <td>...</td>\n",
       "      <td>...</td>\n",
       "      <td>...</td>\n",
       "      <td>...</td>\n",
       "      <td>...</td>\n",
       "      <td>...</td>\n",
       "      <td>...</td>\n",
       "      <td>...</td>\n",
       "      <td>...</td>\n",
       "      <td>...</td>\n",
       "      <td>...</td>\n",
       "    </tr>\n",
       "    <tr>\n",
       "      <th>5701</th>\n",
       "      <td>625</td>\n",
       "      <td>49</td>\n",
       "      <td>4</td>\n",
       "      <td>128504.76</td>\n",
       "      <td>1</td>\n",
       "      <td>1</td>\n",
       "      <td>0</td>\n",
       "      <td>126812.63</td>\n",
       "      <td>1</td>\n",
       "      <td>0</td>\n",
       "      <td>1</td>\n",
       "      <td>0</td>\n",
       "    </tr>\n",
       "    <tr>\n",
       "      <th>9337</th>\n",
       "      <td>466</td>\n",
       "      <td>47</td>\n",
       "      <td>5</td>\n",
       "      <td>102085.72</td>\n",
       "      <td>1</td>\n",
       "      <td>1</td>\n",
       "      <td>1</td>\n",
       "      <td>183536.24</td>\n",
       "      <td>1</td>\n",
       "      <td>0</td>\n",
       "      <td>1</td>\n",
       "      <td>0</td>\n",
       "    </tr>\n",
       "    <tr>\n",
       "      <th>4345</th>\n",
       "      <td>720</td>\n",
       "      <td>46</td>\n",
       "      <td>3</td>\n",
       "      <td>97042.60</td>\n",
       "      <td>1</td>\n",
       "      <td>1</td>\n",
       "      <td>1</td>\n",
       "      <td>133516.51</td>\n",
       "      <td>1</td>\n",
       "      <td>1</td>\n",
       "      <td>1</td>\n",
       "      <td>0</td>\n",
       "    </tr>\n",
       "    <tr>\n",
       "      <th>1085</th>\n",
       "      <td>803</td>\n",
       "      <td>42</td>\n",
       "      <td>5</td>\n",
       "      <td>0.00</td>\n",
       "      <td>1</td>\n",
       "      <td>1</td>\n",
       "      <td>0</td>\n",
       "      <td>196466.83</td>\n",
       "      <td>1</td>\n",
       "      <td>1</td>\n",
       "      <td>0</td>\n",
       "      <td>0</td>\n",
       "    </tr>\n",
       "    <tr>\n",
       "      <th>3694</th>\n",
       "      <td>608</td>\n",
       "      <td>33</td>\n",
       "      <td>4</td>\n",
       "      <td>0.00</td>\n",
       "      <td>1</td>\n",
       "      <td>1</td>\n",
       "      <td>0</td>\n",
       "      <td>79304.38</td>\n",
       "      <td>1</td>\n",
       "      <td>0</td>\n",
       "      <td>0</td>\n",
       "      <td>0</td>\n",
       "    </tr>\n",
       "  </tbody>\n",
       "</table>\n",
       "<p>15926 rows × 12 columns</p>\n",
       "</div>"
      ],
      "text/plain": [
       "      CreditScore  Age  Tenure    Balance  NumOfProducts  HasCrCard  \\\n",
       "1             608   41       1   83807.86              1          0   \n",
       "3             699   39       1       0.00              2          0   \n",
       "4             850   43       2  125510.82              1          1   \n",
       "6             822   50       7       0.00              2          1   \n",
       "8             501   44       4  142051.07              2          0   \n",
       "...           ...  ...     ...        ...            ...        ...   \n",
       "5701          625   49       4  128504.76              1          1   \n",
       "9337          466   47       5  102085.72              1          1   \n",
       "4345          720   46       3   97042.60              1          1   \n",
       "1085          803   42       5       0.00              1          1   \n",
       "3694          608   33       4       0.00              1          1   \n",
       "\n",
       "      IsActiveMember  EstimatedSalary  Exited  Gender_Male  Geography_Germany  \\\n",
       "1                  1        112542.58       0            0                  0   \n",
       "3                  0         93826.63       0            0                  0   \n",
       "4                  1         79084.10       0            0                  0   \n",
       "6                  1         10062.80       0            1                  0   \n",
       "8                  1         74940.50       0            1                  0   \n",
       "...              ...              ...     ...          ...                ...   \n",
       "5701               0        126812.63       1            0                  1   \n",
       "9337               1        183536.24       1            0                  1   \n",
       "4345               1        133516.51       1            1                  1   \n",
       "1085               0        196466.83       1            1                  0   \n",
       "3694               0         79304.38       1            0                  0   \n",
       "\n",
       "      Geography_Spain  \n",
       "1                   1  \n",
       "3                   0  \n",
       "4                   1  \n",
       "6                   0  \n",
       "8                   0  \n",
       "...               ...  \n",
       "5701                0  \n",
       "9337                0  \n",
       "4345                0  \n",
       "1085                0  \n",
       "3694                0  \n",
       "\n",
       "[15926 rows x 12 columns]"
      ]
     },
     "execution_count": 25,
     "metadata": {},
     "output_type": "execute_result"
    }
   ],
   "source": [
    "# check the target_balanced_data\n",
    "balanced_data"
   ]
  },
  {
   "cell_type": "code",
   "execution_count": 26,
   "id": "966942f3",
   "metadata": {
    "execution": {
     "iopub.execute_input": "2023-06-05T13:35:59.300839Z",
     "iopub.status.busy": "2023-06-05T13:35:59.300407Z",
     "iopub.status.idle": "2023-06-05T13:35:59.314438Z",
     "shell.execute_reply": "2023-06-05T13:35:59.313146Z"
    },
    "papermill": {
     "duration": 0.044906,
     "end_time": "2023-06-05T13:35:59.317165",
     "exception": false,
     "start_time": "2023-06-05T13:35:59.272259",
     "status": "completed"
    },
    "tags": []
   },
   "outputs": [
    {
     "data": {
      "text/plain": [
       "0"
      ]
     },
     "execution_count": 26,
     "metadata": {},
     "output_type": "execute_result"
    }
   ],
   "source": [
    "# see the duplicates values after the balancing the data and in dataset if exist then remove otherwise not.\n",
    "df.duplicated().sum()"
   ]
  },
  {
   "cell_type": "code",
   "execution_count": 27,
   "id": "8327c316",
   "metadata": {
    "execution": {
     "iopub.execute_input": "2023-06-05T13:35:59.372833Z",
     "iopub.status.busy": "2023-06-05T13:35:59.371747Z",
     "iopub.status.idle": "2023-06-05T13:35:59.380964Z",
     "shell.execute_reply": "2023-06-05T13:35:59.379902Z"
    },
    "papermill": {
     "duration": 0.039596,
     "end_time": "2023-06-05T13:35:59.383499",
     "exception": false,
     "start_time": "2023-06-05T13:35:59.343903",
     "status": "completed"
    },
    "tags": []
   },
   "outputs": [
    {
     "data": {
      "text/plain": [
       "CreditScore          0\n",
       "Age                  0\n",
       "Tenure               0\n",
       "Balance              0\n",
       "NumOfProducts        0\n",
       "HasCrCard            0\n",
       "IsActiveMember       0\n",
       "EstimatedSalary      0\n",
       "Exited               0\n",
       "Gender_Male          0\n",
       "Geography_Germany    0\n",
       "Geography_Spain      0\n",
       "dtype: int64"
      ]
     },
     "execution_count": 27,
     "metadata": {},
     "output_type": "execute_result"
    }
   ],
   "source": [
    "# check the null values after the balancing the data and in the each columns of dataset if exist then remove otherwise not.\n",
    "df.isnull().sum()"
   ]
  },
  {
   "cell_type": "code",
   "execution_count": 28,
   "id": "b98e5b37",
   "metadata": {
    "execution": {
     "iopub.execute_input": "2023-06-05T13:35:59.439212Z",
     "iopub.status.busy": "2023-06-05T13:35:59.438402Z",
     "iopub.status.idle": "2023-06-05T13:35:59.446996Z",
     "shell.execute_reply": "2023-06-05T13:35:59.445999Z"
    },
    "papermill": {
     "duration": 0.039329,
     "end_time": "2023-06-05T13:35:59.449677",
     "exception": false,
     "start_time": "2023-06-05T13:35:59.410348",
     "status": "completed"
    },
    "tags": []
   },
   "outputs": [
    {
     "data": {
      "text/plain": [
       "0    7963\n",
       "1    7963\n",
       "Name: Exited, dtype: int64"
      ]
     },
     "execution_count": 28,
     "metadata": {},
     "output_type": "execute_result"
    }
   ],
   "source": [
    "# check again the value counts of \"Exited\" target column after the balancing the data.\n",
    "df_exit = balanced_data['Exited'].value_counts()\n",
    "df_exit"
   ]
  },
  {
   "cell_type": "code",
   "execution_count": 29,
   "id": "9b170e9c",
   "metadata": {
    "execution": {
     "iopub.execute_input": "2023-06-05T13:35:59.505921Z",
     "iopub.status.busy": "2023-06-05T13:35:59.505131Z",
     "iopub.status.idle": "2023-06-05T13:35:59.859991Z",
     "shell.execute_reply": "2023-06-05T13:35:59.858788Z"
    },
    "papermill": {
     "duration": 0.386442,
     "end_time": "2023-06-05T13:35:59.862673",
     "exception": false,
     "start_time": "2023-06-05T13:35:59.476231",
     "status": "completed"
    },
    "tags": []
   },
   "outputs": [
    {
     "name": "stderr",
     "output_type": "stream",
     "text": [
      "/tmp/ipykernel_20/244396859.py:4: UserWarning: FixedFormatter should only be used together with FixedLocator\n",
      "  res.set_yticklabels(res.get_ymajorticklabels(), fontsize = 16, color='black')\n"
     ]
    },
    {
     "data": {
      "image/png": "[encoded data removed]",
      "text/plain": [
       "<Figure size 1200x800 with 1 Axes>"
      ]
     },
     "metadata": {},
     "output_type": "display_data"
    }
   ],
   "source": [
    "# # let's perform univarient eda on \"Exited\" target column after the balancing the data.\n",
    "plt.figure(figsize=(12,8))\n",
    "res=sns.barplot(y=df_exit, x=df_exit.index)\n",
    "res.set_yticklabels(res.get_ymajorticklabels(), fontsize = 16, color='black')\n",
    "plt.ylabel('Value Counts of Customer Churn or Not',fontsize = 16, color='black')\n",
    "plt.xlabel('Customer Curn or Not',fontsize = 16, color='black')\n",
    "plt.title('How many customers is Churn or Not Churn',fontsize = 18, color='black')\n",
    "plt.show()"
   ]
  },
  {
   "cell_type": "markdown",
   "id": "9b0f7cd7",
   "metadata": {
    "papermill": {
     "duration": 0.028145,
     "end_time": "2023-06-05T13:35:59.919024",
     "exception": false,
     "start_time": "2023-06-05T13:35:59.890879",
     "status": "completed"
    },
    "tags": []
   },
   "source": [
    "# **Split the Data for model Training and Testing**"
   ]
  },
  {
   "cell_type": "code",
   "execution_count": 30,
   "id": "e83539a7",
   "metadata": {
    "execution": {
     "iopub.execute_input": "2023-06-05T13:35:59.977116Z",
     "iopub.status.busy": "2023-06-05T13:35:59.976676Z",
     "iopub.status.idle": "2023-06-05T13:35:59.983824Z",
     "shell.execute_reply": "2023-06-05T13:35:59.982572Z"
    },
    "papermill": {
     "duration": 0.039564,
     "end_time": "2023-06-05T13:35:59.986403",
     "exception": false,
     "start_time": "2023-06-05T13:35:59.946839",
     "status": "completed"
    },
    "tags": []
   },
   "outputs": [],
   "source": [
    "# # split the feature in x variable and target varible in y variable\n",
    "y = balanced_data['Exited']\n",
    "X = balanced_data.drop('Exited',axis=1)"
   ]
  },
  {
   "cell_type": "code",
   "execution_count": 31,
   "id": "4af0f1f1",
   "metadata": {
    "execution": {
     "iopub.execute_input": "2023-06-05T13:36:00.050668Z",
     "iopub.status.busy": "2023-06-05T13:36:00.049565Z",
     "iopub.status.idle": "2023-06-05T13:36:00.059716Z",
     "shell.execute_reply": "2023-06-05T13:36:00.058749Z"
    },
    "papermill": {
     "duration": 0.043495,
     "end_time": "2023-06-05T13:36:00.062379",
     "exception": false,
     "start_time": "2023-06-05T13:36:00.018884",
     "status": "completed"
    },
    "tags": []
   },
   "outputs": [],
   "source": [
    "# use sklearn for train_test_split\n",
    "X_train, X_test, y_train, y_test = train_test_split(X, y, test_size = 0.2, random_state = 42)"
   ]
  },
  {
   "cell_type": "code",
   "execution_count": 32,
   "id": "920b19f8",
   "metadata": {
    "execution": {
     "iopub.execute_input": "2023-06-05T13:36:00.120123Z",
     "iopub.status.busy": "2023-06-05T13:36:00.119641Z",
     "iopub.status.idle": "2023-06-05T13:36:00.127133Z",
     "shell.execute_reply": "2023-06-05T13:36:00.125793Z"
    },
    "papermill": {
     "duration": 0.039563,
     "end_time": "2023-06-05T13:36:00.129470",
     "exception": false,
     "start_time": "2023-06-05T13:36:00.089907",
     "status": "completed"
    },
    "tags": []
   },
   "outputs": [
    {
     "name": "stdout",
     "output_type": "stream",
     "text": [
      "X_train Shape :  (12740, 11)\n",
      "X_test Shape :  (3186, 11)\n",
      "y_train Shape :  (12740,)\n",
      "y_test Shape :  (3186,)\n"
     ]
    }
   ],
   "source": [
    "# check the shape of X_train & X_test, y_train & y_test\n",
    "print(\"X_train Shape : \", X_train.shape)\n",
    "print(\"X_test Shape : \", X_test.shape)\n",
    "print(\"y_train Shape : \", y_train.shape)\n",
    "print(\"y_test Shape : \", y_test.shape)"
   ]
  },
  {
   "cell_type": "markdown",
   "id": "be0598b1",
   "metadata": {
    "papermill": {
     "duration": 0.028481,
     "end_time": "2023-06-05T13:36:00.185583",
     "exception": false,
     "start_time": "2023-06-05T13:36:00.157102",
     "status": "completed"
    },
    "tags": []
   },
   "source": [
    "### **Apply Sklearn Standard Scaler Technique for Standarized the Input Features Values**"
   ]
  },
  {
   "cell_type": "code",
   "execution_count": 33,
   "id": "af22ebd1",
   "metadata": {
    "execution": {
     "iopub.execute_input": "2023-06-05T13:36:00.245872Z",
     "iopub.status.busy": "2023-06-05T13:36:00.244713Z",
     "iopub.status.idle": "2023-06-05T13:36:00.260387Z",
     "shell.execute_reply": "2023-06-05T13:36:00.258663Z"
    },
    "papermill": {
     "duration": 0.048478,
     "end_time": "2023-06-05T13:36:00.263372",
     "exception": false,
     "start_time": "2023-06-05T13:36:00.214894",
     "status": "completed"
    },
    "tags": []
   },
   "outputs": [],
   "source": [
    "# use sklearn standard scaler technique for standarized the input features values\n",
    "scaler = StandardScaler()\n",
    "\n",
    "X_train_scaled = scaler.fit_transform(X_train)\n",
    "X_test_scaled = scaler.transform(X_test)"
   ]
  },
  {
   "cell_type": "code",
   "execution_count": 34,
   "id": "74c5ef0e",
   "metadata": {
    "execution": {
     "iopub.execute_input": "2023-06-05T13:36:00.323584Z",
     "iopub.status.busy": "2023-06-05T13:36:00.323154Z",
     "iopub.status.idle": "2023-06-05T13:36:00.330614Z",
     "shell.execute_reply": "2023-06-05T13:36:00.329674Z"
    },
    "papermill": {
     "duration": 0.042199,
     "end_time": "2023-06-05T13:36:00.333441",
     "exception": false,
     "start_time": "2023-06-05T13:36:00.291242",
     "status": "completed"
    },
    "tags": []
   },
   "outputs": [
    {
     "data": {
      "text/plain": [
       "array([[ 1.74458075e+00,  2.64948525e-01,  1.02260197e+00, ...,\n",
       "         9.74118179e-01, -6.65070356e-01, -5.47359263e-01],\n",
       "       [ 1.24130320e+00,  7.61019204e-02,  8.82175645e-04, ...,\n",
       "         9.74118179e-01, -6.65070356e-01, -5.47359263e-01],\n",
       "       [ 8.06835512e-02, -1.83213817e-02,  1.02260197e+00, ...,\n",
       "         9.74118179e-01,  1.50360032e+00, -5.47359263e-01],\n",
       "       ...,\n",
       "       [ 3.16915869e-01, -8.68131101e-01,  8.82175645e-04, ...,\n",
       "        -1.02656949e+00, -6.65070356e-01, -5.47359263e-01],\n",
       "       [ 4.60709454e-01, -4.90437892e-01, -3.39691089e-01, ...,\n",
       "        -1.02656949e+00, -6.65070356e-01, -5.47359263e-01],\n",
       "       [-2.68529441e-01, -1.12744684e-01,  1.70374850e+00, ...,\n",
       "         9.74118179e-01, -6.65070356e-01, -5.47359263e-01]])"
      ]
     },
     "execution_count": 34,
     "metadata": {},
     "output_type": "execute_result"
    }
   ],
   "source": [
    "# check the X_train_scaled values\n",
    "X_train_scaled"
   ]
  },
  {
   "cell_type": "code",
   "execution_count": 35,
   "id": "1cedb061",
   "metadata": {
    "execution": {
     "iopub.execute_input": "2023-06-05T13:36:00.392893Z",
     "iopub.status.busy": "2023-06-05T13:36:00.392415Z",
     "iopub.status.idle": "2023-06-05T13:36:00.400055Z",
     "shell.execute_reply": "2023-06-05T13:36:00.399029Z"
    },
    "papermill": {
     "duration": 0.040605,
     "end_time": "2023-06-05T13:36:00.402354",
     "exception": false,
     "start_time": "2023-06-05T13:36:00.361749",
     "status": "completed"
    },
    "tags": []
   },
   "outputs": [
    {
     "data": {
      "text/plain": [
       "array([[ 0.46070945,  0.45379513, -1.02083762, ...,  0.97411818,\n",
       "        -0.66507036,  1.82695364],\n",
       "       [-1.34698133, -0.39601459,  1.02260197, ..., -1.02656949,\n",
       "        -0.66507036, -0.54735926],\n",
       "       [-1.19291677, -0.39601459, -1.36141088, ...,  0.97411818,\n",
       "        -0.66507036,  1.82695364],\n",
       "       ...,\n",
       "       [-0.11446489, -1.0569777 ,  1.02260197, ...,  0.97411818,\n",
       "         1.50360032, -0.54735926],\n",
       "       [-1.0799361 , -0.7737078 ,  1.02260197, ...,  0.97411818,\n",
       "         1.50360032, -0.54735926],\n",
       "       [-2.4665171 , -0.39601459, -1.36141088, ...,  0.97411818,\n",
       "        -0.66507036,  1.82695364]])"
      ]
     },
     "execution_count": 35,
     "metadata": {},
     "output_type": "execute_result"
    }
   ],
   "source": [
    "# check the X_est_scaled values\n",
    "X_test_scaled"
   ]
  },
  {
   "cell_type": "code",
   "execution_count": 36,
   "id": "c50943cd",
   "metadata": {
    "execution": {
     "iopub.execute_input": "2023-06-05T13:36:00.462605Z",
     "iopub.status.busy": "2023-06-05T13:36:00.461738Z",
     "iopub.status.idle": "2023-06-05T13:36:00.470670Z",
     "shell.execute_reply": "2023-06-05T13:36:00.469566Z"
    },
    "papermill": {
     "duration": 0.041422,
     "end_time": "2023-06-05T13:36:00.473039",
     "exception": false,
     "start_time": "2023-06-05T13:36:00.431617",
     "status": "completed"
    },
    "tags": []
   },
   "outputs": [
    {
     "data": {
      "text/plain": [
       "(15926, 12)"
      ]
     },
     "execution_count": 36,
     "metadata": {},
     "output_type": "execute_result"
    }
   ],
   "source": [
    "# see the shape of balanced data\n",
    "balanced_data.shape"
   ]
  },
  {
   "cell_type": "markdown",
   "id": "86f76e43",
   "metadata": {
    "papermill": {
     "duration": 0.028573,
     "end_time": "2023-06-05T13:36:00.529742",
     "exception": false,
     "start_time": "2023-06-05T13:36:00.501169",
     "status": "completed"
    },
    "tags": []
   },
   "source": [
    "# **Model Building - Artificial - Neural - Network - ANN**"
   ]
  },
  {
   "cell_type": "code",
   "execution_count": 37,
   "id": "c55f77d7",
   "metadata": {
    "execution": {
     "iopub.execute_input": "2023-06-05T13:36:00.589616Z",
     "iopub.status.busy": "2023-06-05T13:36:00.588878Z",
     "iopub.status.idle": "2023-06-05T13:36:00.808571Z",
     "shell.execute_reply": "2023-06-05T13:36:00.807150Z"
    },
    "papermill": {
     "duration": 0.253533,
     "end_time": "2023-06-05T13:36:00.811758",
     "exception": false,
     "start_time": "2023-06-05T13:36:00.558225",
     "status": "completed"
    },
    "tags": []
   },
   "outputs": [],
   "source": [
    "model = Sequential()\n",
    "model.add(Dense(11, activation='relu', input_dim = 11))\n",
    "model.add(Dense(11, activation='relu'))\n",
    "model.add(Dense(1, activation='sigmoid'))"
   ]
  },
  {
   "cell_type": "code",
   "execution_count": 38,
   "id": "920afa7c",
   "metadata": {
    "execution": {
     "iopub.execute_input": "2023-06-05T13:36:00.874077Z",
     "iopub.status.busy": "2023-06-05T13:36:00.873599Z",
     "iopub.status.idle": "2023-06-05T13:36:00.899666Z",
     "shell.execute_reply": "2023-06-05T13:36:00.898350Z"
    },
    "papermill": {
     "duration": 0.061946,
     "end_time": "2023-06-05T13:36:00.902812",
     "exception": false,
     "start_time": "2023-06-05T13:36:00.840866",
     "status": "completed"
    },
    "tags": []
   },
   "outputs": [
    {
     "name": "stdout",
     "output_type": "stream",
     "text": [
      "Model: \"sequential\"\n",
      "_________________________________________________________________\n",
      " Layer (type)                Output Shape              Param #   \n",
      "=================================================================\n",
      " dense (Dense)               (None, 11)                132       \n",
      "                                                                 \n",
      " dense_1 (Dense)             (None, 11)                132       \n",
      "                                                                 \n",
      " dense_2 (Dense)             (None, 1)                 12        \n",
      "                                                                 \n",
      "=================================================================\n",
      "Total params: 276\n",
      "Trainable params: 276\n",
      "Non-trainable params: 0\n",
      "_________________________________________________________________\n"
     ]
    }
   ],
   "source": [
    "model.summary()"
   ]
  },
  {
   "cell_type": "code",
   "execution_count": 39,
   "id": "69b8140c",
   "metadata": {
    "execution": {
     "iopub.execute_input": "2023-06-05T13:36:00.964969Z",
     "iopub.status.busy": "2023-06-05T13:36:00.964533Z",
     "iopub.status.idle": "2023-06-05T13:36:00.989989Z",
     "shell.execute_reply": "2023-06-05T13:36:00.988515Z"
    },
    "papermill": {
     "duration": 0.060366,
     "end_time": "2023-06-05T13:36:00.992849",
     "exception": false,
     "start_time": "2023-06-05T13:36:00.932483",
     "status": "completed"
    },
    "tags": []
   },
   "outputs": [],
   "source": [
    "model.compile(loss='binary_crossentropy', optimizer='Adam', metrics=['accuracy'])"
   ]
  },
  {
   "cell_type": "code",
   "execution_count": 40,
   "id": "7ff5dd77",
   "metadata": {
    "execution": {
     "iopub.execute_input": "2023-06-05T13:36:01.058407Z",
     "iopub.status.busy": "2023-06-05T13:36:01.057961Z",
     "iopub.status.idle": "2023-06-05T13:37:23.797762Z",
     "shell.execute_reply": "2023-06-05T13:37:23.796273Z"
    },
    "papermill": {
     "duration": 82.774721,
     "end_time": "2023-06-05T13:37:23.800801",
     "exception": false,
     "start_time": "2023-06-05T13:36:01.026080",
     "status": "completed"
    },
    "tags": []
   },
   "outputs": [
    {
     "name": "stdout",
     "output_type": "stream",
     "text": [
      "Epoch 1/100\n",
      "319/319 [==============================] - 2s 4ms/step - loss: 0.6772 - accuracy: 0.5770 - val_loss: 0.6183 - val_accuracy: 0.6739\n",
      "Epoch 2/100\n",
      "319/319 [==============================] - 1s 3ms/step - loss: 0.5802 - accuracy: 0.7102 - val_loss: 0.5469 - val_accuracy: 0.7335\n",
      "Epoch 3/100\n",
      "319/319 [==============================] - 1s 3ms/step - loss: 0.5328 - accuracy: 0.7379 - val_loss: 0.5136 - val_accuracy: 0.7504\n",
      "Epoch 4/100\n",
      "319/319 [==============================] - 1s 3ms/step - loss: 0.5075 - accuracy: 0.7479 - val_loss: 0.4989 - val_accuracy: 0.7598\n",
      "Epoch 5/100\n",
      "319/319 [==============================] - 1s 3ms/step - loss: 0.4930 - accuracy: 0.7589 - val_loss: 0.4881 - val_accuracy: 0.7637\n",
      "Epoch 6/100\n",
      "319/319 [==============================] - 1s 2ms/step - loss: 0.4827 - accuracy: 0.7683 - val_loss: 0.4779 - val_accuracy: 0.7755\n",
      "Epoch 7/100\n",
      "319/319 [==============================] - 1s 2ms/step - loss: 0.4755 - accuracy: 0.7692 - val_loss: 0.4738 - val_accuracy: 0.7720\n",
      "Epoch 8/100\n",
      "319/319 [==============================] - 1s 3ms/step - loss: 0.4698 - accuracy: 0.7702 - val_loss: 0.4662 - val_accuracy: 0.7755\n",
      "Epoch 9/100\n",
      "319/319 [==============================] - 1s 2ms/step - loss: 0.4648 - accuracy: 0.7751 - val_loss: 0.4621 - val_accuracy: 0.7763\n",
      "Epoch 10/100\n",
      "319/319 [==============================] - 1s 3ms/step - loss: 0.4617 - accuracy: 0.7761 - val_loss: 0.4597 - val_accuracy: 0.7767\n",
      "Epoch 11/100\n",
      "319/319 [==============================] - 1s 3ms/step - loss: 0.4590 - accuracy: 0.7786 - val_loss: 0.4577 - val_accuracy: 0.7818\n",
      "Epoch 12/100\n",
      "319/319 [==============================] - 1s 2ms/step - loss: 0.4565 - accuracy: 0.7796 - val_loss: 0.4559 - val_accuracy: 0.7841\n",
      "Epoch 13/100\n",
      "319/319 [==============================] - 1s 2ms/step - loss: 0.4545 - accuracy: 0.7784 - val_loss: 0.4558 - val_accuracy: 0.7822\n",
      "Epoch 14/100\n",
      "319/319 [==============================] - 1s 3ms/step - loss: 0.4533 - accuracy: 0.7804 - val_loss: 0.4535 - val_accuracy: 0.7869\n",
      "Epoch 15/100\n",
      "319/319 [==============================] - 1s 2ms/step - loss: 0.4525 - accuracy: 0.7822 - val_loss: 0.4528 - val_accuracy: 0.7869\n",
      "Epoch 16/100\n",
      "319/319 [==============================] - 1s 2ms/step - loss: 0.4502 - accuracy: 0.7817 - val_loss: 0.4521 - val_accuracy: 0.7853\n",
      "Epoch 17/100\n",
      "319/319 [==============================] - 1s 2ms/step - loss: 0.4495 - accuracy: 0.7832 - val_loss: 0.4540 - val_accuracy: 0.7798\n",
      "Epoch 18/100\n",
      "319/319 [==============================] - 1s 3ms/step - loss: 0.4481 - accuracy: 0.7859 - val_loss: 0.4533 - val_accuracy: 0.7818\n",
      "Epoch 19/100\n",
      "319/319 [==============================] - 1s 3ms/step - loss: 0.4478 - accuracy: 0.7838 - val_loss: 0.4499 - val_accuracy: 0.7873\n",
      "Epoch 20/100\n",
      "319/319 [==============================] - 1s 3ms/step - loss: 0.4465 - accuracy: 0.7851 - val_loss: 0.4537 - val_accuracy: 0.7818\n",
      "Epoch 21/100\n",
      "319/319 [==============================] - 1s 3ms/step - loss: 0.4458 - accuracy: 0.7851 - val_loss: 0.4502 - val_accuracy: 0.7818\n",
      "Epoch 22/100\n",
      "319/319 [==============================] - 1s 3ms/step - loss: 0.4446 - accuracy: 0.7856 - val_loss: 0.4508 - val_accuracy: 0.7845\n",
      "Epoch 23/100\n",
      "319/319 [==============================] - 1s 3ms/step - loss: 0.4438 - accuracy: 0.7857 - val_loss: 0.4486 - val_accuracy: 0.7920\n",
      "Epoch 24/100\n",
      "319/319 [==============================] - 1s 3ms/step - loss: 0.4430 - accuracy: 0.7860 - val_loss: 0.4503 - val_accuracy: 0.7845\n",
      "Epoch 25/100\n",
      "319/319 [==============================] - 1s 3ms/step - loss: 0.4424 - accuracy: 0.7855 - val_loss: 0.4466 - val_accuracy: 0.7900\n",
      "Epoch 26/100\n",
      "319/319 [==============================] - 1s 2ms/step - loss: 0.4422 - accuracy: 0.7851 - val_loss: 0.4464 - val_accuracy: 0.7841\n",
      "Epoch 27/100\n",
      "319/319 [==============================] - 1s 2ms/step - loss: 0.4413 - accuracy: 0.7856 - val_loss: 0.4458 - val_accuracy: 0.7841\n",
      "Epoch 28/100\n",
      "319/319 [==============================] - 1s 3ms/step - loss: 0.4405 - accuracy: 0.7878 - val_loss: 0.4453 - val_accuracy: 0.7881\n",
      "Epoch 29/100\n",
      "319/319 [==============================] - 1s 2ms/step - loss: 0.4400 - accuracy: 0.7891 - val_loss: 0.4461 - val_accuracy: 0.7818\n",
      "Epoch 30/100\n",
      "319/319 [==============================] - 1s 2ms/step - loss: 0.4392 - accuracy: 0.7879 - val_loss: 0.4477 - val_accuracy: 0.7798\n",
      "Epoch 31/100\n",
      "319/319 [==============================] - 1s 2ms/step - loss: 0.4389 - accuracy: 0.7890 - val_loss: 0.4454 - val_accuracy: 0.7830\n",
      "Epoch 32/100\n",
      "319/319 [==============================] - 1s 3ms/step - loss: 0.4381 - accuracy: 0.7895 - val_loss: 0.4456 - val_accuracy: 0.7838\n",
      "Epoch 33/100\n",
      "319/319 [==============================] - 1s 2ms/step - loss: 0.4376 - accuracy: 0.7885 - val_loss: 0.4449 - val_accuracy: 0.7841\n",
      "Epoch 34/100\n",
      "319/319 [==============================] - 1s 2ms/step - loss: 0.4372 - accuracy: 0.7887 - val_loss: 0.4447 - val_accuracy: 0.7798\n",
      "Epoch 35/100\n",
      "319/319 [==============================] - 1s 3ms/step - loss: 0.4377 - accuracy: 0.7891 - val_loss: 0.4454 - val_accuracy: 0.7838\n",
      "Epoch 36/100\n",
      "319/319 [==============================] - 1s 3ms/step - loss: 0.4370 - accuracy: 0.7905 - val_loss: 0.4444 - val_accuracy: 0.7857\n",
      "Epoch 37/100\n",
      "319/319 [==============================] - 1s 3ms/step - loss: 0.4364 - accuracy: 0.7925 - val_loss: 0.4440 - val_accuracy: 0.7845\n",
      "Epoch 38/100\n",
      "319/319 [==============================] - 1s 2ms/step - loss: 0.4364 - accuracy: 0.7916 - val_loss: 0.4455 - val_accuracy: 0.7845\n",
      "Epoch 39/100\n",
      "319/319 [==============================] - 1s 2ms/step - loss: 0.4359 - accuracy: 0.7900 - val_loss: 0.4440 - val_accuracy: 0.7857\n",
      "Epoch 40/100\n",
      "319/319 [==============================] - 1s 3ms/step - loss: 0.4357 - accuracy: 0.7927 - val_loss: 0.4435 - val_accuracy: 0.7873\n",
      "Epoch 41/100\n",
      "319/319 [==============================] - 1s 3ms/step - loss: 0.4353 - accuracy: 0.7952 - val_loss: 0.4435 - val_accuracy: 0.7810\n",
      "Epoch 42/100\n",
      "319/319 [==============================] - 1s 2ms/step - loss: 0.4356 - accuracy: 0.7917 - val_loss: 0.4436 - val_accuracy: 0.7849\n",
      "Epoch 43/100\n",
      "319/319 [==============================] - 1s 3ms/step - loss: 0.4352 - accuracy: 0.7935 - val_loss: 0.4443 - val_accuracy: 0.7802\n",
      "Epoch 44/100\n",
      "319/319 [==============================] - 1s 3ms/step - loss: 0.4349 - accuracy: 0.7909 - val_loss: 0.4440 - val_accuracy: 0.7853\n",
      "Epoch 45/100\n",
      "319/319 [==============================] - 1s 3ms/step - loss: 0.4347 - accuracy: 0.7924 - val_loss: 0.4442 - val_accuracy: 0.7806\n",
      "Epoch 46/100\n",
      "319/319 [==============================] - 1s 3ms/step - loss: 0.4348 - accuracy: 0.7938 - val_loss: 0.4432 - val_accuracy: 0.7845\n",
      "Epoch 47/100\n",
      "319/319 [==============================] - 1s 3ms/step - loss: 0.4346 - accuracy: 0.7943 - val_loss: 0.4417 - val_accuracy: 0.7834\n",
      "Epoch 48/100\n",
      "319/319 [==============================] - 1s 3ms/step - loss: 0.4343 - accuracy: 0.7931 - val_loss: 0.4430 - val_accuracy: 0.7845\n",
      "Epoch 49/100\n",
      "319/319 [==============================] - 1s 3ms/step - loss: 0.4338 - accuracy: 0.7925 - val_loss: 0.4446 - val_accuracy: 0.7834\n",
      "Epoch 50/100\n",
      "319/319 [==============================] - 1s 2ms/step - loss: 0.4337 - accuracy: 0.7939 - val_loss: 0.4445 - val_accuracy: 0.7853\n",
      "Epoch 51/100\n",
      "319/319 [==============================] - 1s 3ms/step - loss: 0.4337 - accuracy: 0.7949 - val_loss: 0.4429 - val_accuracy: 0.7822\n",
      "Epoch 52/100\n",
      "319/319 [==============================] - 1s 3ms/step - loss: 0.4334 - accuracy: 0.7959 - val_loss: 0.4437 - val_accuracy: 0.7845\n",
      "Epoch 53/100\n",
      "319/319 [==============================] - 1s 2ms/step - loss: 0.4331 - accuracy: 0.7945 - val_loss: 0.4431 - val_accuracy: 0.7849\n",
      "Epoch 54/100\n",
      "319/319 [==============================] - 1s 3ms/step - loss: 0.4330 - accuracy: 0.7943 - val_loss: 0.4431 - val_accuracy: 0.7810\n",
      "Epoch 55/100\n",
      "319/319 [==============================] - 1s 2ms/step - loss: 0.4328 - accuracy: 0.7940 - val_loss: 0.4431 - val_accuracy: 0.7849\n",
      "Epoch 56/100\n",
      "319/319 [==============================] - 1s 2ms/step - loss: 0.4322 - accuracy: 0.7959 - val_loss: 0.4438 - val_accuracy: 0.7818\n",
      "Epoch 57/100\n",
      "319/319 [==============================] - 1s 2ms/step - loss: 0.4328 - accuracy: 0.7967 - val_loss: 0.4410 - val_accuracy: 0.7861\n",
      "Epoch 58/100\n",
      "319/319 [==============================] - 1s 3ms/step - loss: 0.4319 - accuracy: 0.7954 - val_loss: 0.4414 - val_accuracy: 0.7857\n",
      "Epoch 59/100\n",
      "319/319 [==============================] - 1s 2ms/step - loss: 0.4317 - accuracy: 0.7963 - val_loss: 0.4428 - val_accuracy: 0.7861\n",
      "Epoch 60/100\n",
      "319/319 [==============================] - 1s 2ms/step - loss: 0.4320 - accuracy: 0.7964 - val_loss: 0.4439 - val_accuracy: 0.7889\n",
      "Epoch 61/100\n",
      "319/319 [==============================] - 1s 2ms/step - loss: 0.4316 - accuracy: 0.7929 - val_loss: 0.4416 - val_accuracy: 0.7857\n",
      "Epoch 62/100\n",
      "319/319 [==============================] - 1s 2ms/step - loss: 0.4314 - accuracy: 0.7967 - val_loss: 0.4405 - val_accuracy: 0.7881\n",
      "Epoch 63/100\n",
      "319/319 [==============================] - 1s 2ms/step - loss: 0.4313 - accuracy: 0.7956 - val_loss: 0.4408 - val_accuracy: 0.7889\n",
      "Epoch 64/100\n",
      "319/319 [==============================] - 1s 2ms/step - loss: 0.4310 - accuracy: 0.7942 - val_loss: 0.4409 - val_accuracy: 0.7869\n",
      "Epoch 65/100\n",
      "319/319 [==============================] - 1s 3ms/step - loss: 0.4308 - accuracy: 0.7950 - val_loss: 0.4406 - val_accuracy: 0.7889\n",
      "Epoch 66/100\n",
      "319/319 [==============================] - 1s 3ms/step - loss: 0.4309 - accuracy: 0.7961 - val_loss: 0.4411 - val_accuracy: 0.7877\n",
      "Epoch 67/100\n",
      "319/319 [==============================] - 1s 3ms/step - loss: 0.4305 - accuracy: 0.7961 - val_loss: 0.4414 - val_accuracy: 0.7924\n",
      "Epoch 68/100\n",
      "319/319 [==============================] - 1s 3ms/step - loss: 0.4300 - accuracy: 0.7967 - val_loss: 0.4422 - val_accuracy: 0.7861\n",
      "Epoch 69/100\n",
      "319/319 [==============================] - 1s 3ms/step - loss: 0.4299 - accuracy: 0.7951 - val_loss: 0.4465 - val_accuracy: 0.7830\n",
      "Epoch 70/100\n",
      "319/319 [==============================] - 1s 2ms/step - loss: 0.4302 - accuracy: 0.7974 - val_loss: 0.4417 - val_accuracy: 0.7892\n",
      "Epoch 71/100\n",
      "319/319 [==============================] - 1s 3ms/step - loss: 0.4302 - accuracy: 0.7967 - val_loss: 0.4418 - val_accuracy: 0.7885\n",
      "Epoch 72/100\n",
      "319/319 [==============================] - 1s 2ms/step - loss: 0.4303 - accuracy: 0.7977 - val_loss: 0.4421 - val_accuracy: 0.7885\n",
      "Epoch 73/100\n",
      "319/319 [==============================] - 1s 2ms/step - loss: 0.4296 - accuracy: 0.7963 - val_loss: 0.4413 - val_accuracy: 0.7865\n",
      "Epoch 74/100\n",
      "319/319 [==============================] - 1s 3ms/step - loss: 0.4293 - accuracy: 0.7959 - val_loss: 0.4403 - val_accuracy: 0.7889\n",
      "Epoch 75/100\n",
      "319/319 [==============================] - 1s 2ms/step - loss: 0.4288 - accuracy: 0.7976 - val_loss: 0.4445 - val_accuracy: 0.7857\n",
      "Epoch 76/100\n",
      "319/319 [==============================] - 1s 2ms/step - loss: 0.4296 - accuracy: 0.7954 - val_loss: 0.4413 - val_accuracy: 0.7881\n",
      "Epoch 77/100\n",
      "319/319 [==============================] - 1s 2ms/step - loss: 0.4289 - accuracy: 0.7949 - val_loss: 0.4400 - val_accuracy: 0.7885\n",
      "Epoch 78/100\n",
      "319/319 [==============================] - 1s 2ms/step - loss: 0.4287 - accuracy: 0.7992 - val_loss: 0.4408 - val_accuracy: 0.7838\n",
      "Epoch 79/100\n",
      "319/319 [==============================] - 1s 2ms/step - loss: 0.4282 - accuracy: 0.7960 - val_loss: 0.4406 - val_accuracy: 0.7841\n",
      "Epoch 80/100\n",
      "319/319 [==============================] - 1s 2ms/step - loss: 0.4280 - accuracy: 0.7984 - val_loss: 0.4387 - val_accuracy: 0.7881\n",
      "Epoch 81/100\n",
      "319/319 [==============================] - 1s 2ms/step - loss: 0.4282 - accuracy: 0.7976 - val_loss: 0.4401 - val_accuracy: 0.7869\n",
      "Epoch 82/100\n",
      "319/319 [==============================] - 1s 2ms/step - loss: 0.4277 - accuracy: 0.7967 - val_loss: 0.4399 - val_accuracy: 0.7853\n",
      "Epoch 83/100\n",
      "319/319 [==============================] - 1s 3ms/step - loss: 0.4282 - accuracy: 0.7982 - val_loss: 0.4410 - val_accuracy: 0.7873\n",
      "Epoch 84/100\n",
      "319/319 [==============================] - 1s 3ms/step - loss: 0.4276 - accuracy: 0.7986 - val_loss: 0.4420 - val_accuracy: 0.7877\n",
      "Epoch 85/100\n",
      "319/319 [==============================] - 1s 3ms/step - loss: 0.4270 - accuracy: 0.7978 - val_loss: 0.4429 - val_accuracy: 0.7845\n",
      "Epoch 86/100\n",
      "319/319 [==============================] - 1s 3ms/step - loss: 0.4269 - accuracy: 0.7969 - val_loss: 0.4415 - val_accuracy: 0.7834\n",
      "Epoch 87/100\n",
      "319/319 [==============================] - 1s 2ms/step - loss: 0.4267 - accuracy: 0.7964 - val_loss: 0.4407 - val_accuracy: 0.7857\n",
      "Epoch 88/100\n",
      "319/319 [==============================] - 1s 2ms/step - loss: 0.4266 - accuracy: 0.7970 - val_loss: 0.4426 - val_accuracy: 0.7849\n",
      "Epoch 89/100\n",
      "319/319 [==============================] - 1s 3ms/step - loss: 0.4264 - accuracy: 0.7976 - val_loss: 0.4405 - val_accuracy: 0.7857\n",
      "Epoch 90/100\n",
      "319/319 [==============================] - 1s 3ms/step - loss: 0.4262 - accuracy: 0.8007 - val_loss: 0.4391 - val_accuracy: 0.7865\n",
      "Epoch 91/100\n",
      "319/319 [==============================] - 1s 3ms/step - loss: 0.4257 - accuracy: 0.7987 - val_loss: 0.4390 - val_accuracy: 0.7885\n",
      "Epoch 92/100\n",
      "319/319 [==============================] - 1s 2ms/step - loss: 0.4253 - accuracy: 0.7991 - val_loss: 0.4418 - val_accuracy: 0.7830\n",
      "Epoch 93/100\n",
      "319/319 [==============================] - 1s 3ms/step - loss: 0.4261 - accuracy: 0.7987 - val_loss: 0.4402 - val_accuracy: 0.7838\n",
      "Epoch 94/100\n",
      "319/319 [==============================] - 1s 3ms/step - loss: 0.4254 - accuracy: 0.7991 - val_loss: 0.4395 - val_accuracy: 0.7838\n",
      "Epoch 95/100\n",
      "319/319 [==============================] - 1s 2ms/step - loss: 0.4259 - accuracy: 0.7988 - val_loss: 0.4398 - val_accuracy: 0.7873\n",
      "Epoch 96/100\n",
      "319/319 [==============================] - 1s 2ms/step - loss: 0.4254 - accuracy: 0.8001 - val_loss: 0.4400 - val_accuracy: 0.7838\n",
      "Epoch 97/100\n",
      "319/319 [==============================] - 1s 3ms/step - loss: 0.4252 - accuracy: 0.8008 - val_loss: 0.4395 - val_accuracy: 0.7865\n",
      "Epoch 98/100\n",
      "319/319 [==============================] - 1s 2ms/step - loss: 0.4255 - accuracy: 0.7994 - val_loss: 0.4398 - val_accuracy: 0.7892\n",
      "Epoch 99/100\n",
      "319/319 [==============================] - 1s 2ms/step - loss: 0.4253 - accuracy: 0.7992 - val_loss: 0.4397 - val_accuracy: 0.7841\n",
      "Epoch 100/100\n",
      "319/319 [==============================] - 1s 3ms/step - loss: 0.4253 - accuracy: 0.8001 - val_loss: 0.4381 - val_accuracy: 0.7849\n"
     ]
    }
   ],
   "source": [
    "history = model.fit(X_train_scaled, y_train, epochs = 100, validation_split=0.2)"
   ]
  },
  {
   "cell_type": "code",
   "execution_count": 41,
   "id": "7b89d289",
   "metadata": {
    "execution": {
     "iopub.execute_input": "2023-06-05T13:37:24.147472Z",
     "iopub.status.busy": "2023-06-05T13:37:24.147014Z",
     "iopub.status.idle": "2023-06-05T13:37:24.547914Z",
     "shell.execute_reply": "2023-06-05T13:37:24.546612Z"
    },
    "papermill": {
     "duration": 0.57651,
     "end_time": "2023-06-05T13:37:24.550641",
     "exception": false,
     "start_time": "2023-06-05T13:37:23.974131",
     "status": "completed"
    },
    "tags": []
   },
   "outputs": [
    {
     "data": {
      "text/plain": [
       "[<matplotlib.lines.Line2D at 0x7ef55858f4c0>]"
      ]
     },
     "execution_count": 41,
     "metadata": {},
     "output_type": "execute_result"
    },
    {
     "data": {
      "image/png": "[encoded data removed]",
      "text/plain": [
       "<Figure size 640x480 with 1 Axes>"
      ]
     },
     "metadata": {},
     "output_type": "display_data"
    }
   ],
   "source": [
    "plt.plot(history.history['loss'])\n",
    "plt.plot(history.history['val_loss'])"
   ]
  },
  {
   "cell_type": "code",
   "execution_count": 42,
   "id": "b783d789",
   "metadata": {
    "execution": {
     "iopub.execute_input": "2023-06-05T13:37:24.888911Z",
     "iopub.status.busy": "2023-06-05T13:37:24.888433Z",
     "iopub.status.idle": "2023-06-05T13:37:25.294077Z",
     "shell.execute_reply": "2023-06-05T13:37:25.292769Z"
    },
    "papermill": {
     "duration": 0.578609,
     "end_time": "2023-06-05T13:37:25.296808",
     "exception": false,
     "start_time": "2023-06-05T13:37:24.718199",
     "status": "completed"
    },
    "tags": []
   },
   "outputs": [
    {
     "data": {
      "text/plain": [
       "[<matplotlib.lines.Line2D at 0x7ef5585f6110>]"
      ]
     },
     "execution_count": 42,
     "metadata": {},
     "output_type": "execute_result"
    },
    {
     "data": {
      "image/png": "[encoded data removed]",
      "text/plain": [
       "<Figure size 640x480 with 1 Axes>"
      ]
     },
     "metadata": {},
     "output_type": "display_data"
    }
   ],
   "source": [
    "plt.plot(history.history['accuracy'])\n",
    "plt.plot(history.history['val_accuracy'])"
   ]
  },
  {
   "cell_type": "code",
   "execution_count": 43,
   "id": "9afae6fe",
   "metadata": {
    "execution": {
     "iopub.execute_input": "2023-06-05T13:37:25.639865Z",
     "iopub.status.busy": "2023-06-05T13:37:25.638896Z",
     "iopub.status.idle": "2023-06-05T13:37:25.655029Z",
     "shell.execute_reply": "2023-06-05T13:37:25.653710Z"
    },
    "papermill": {
     "duration": 0.190367,
     "end_time": "2023-06-05T13:37:25.657846",
     "exception": false,
     "start_time": "2023-06-05T13:37:25.467479",
     "status": "completed"
    },
    "tags": []
   },
   "outputs": [
    {
     "data": {
      "text/plain": [
       "[array([[-0.09774818,  0.28505412,  0.35863465,  0.31244683,  0.10118113,\n",
       "         -0.01505968,  0.03837868,  0.2558985 , -0.19123732, -0.26566657,\n",
       "         -0.312076  ],\n",
       "        [ 0.28951573, -0.51862437,  1.2057705 ,  0.12088721, -0.55463314,\n",
       "         -0.05406357, -0.00204796,  0.23086467,  0.34471542,  0.7816597 ,\n",
       "         -0.5166734 ],\n",
       "        [-0.0178767 , -0.5249168 ,  0.07129486,  0.23820302, -0.01133731,\n",
       "         -0.02003709, -0.11654112, -0.35080457, -0.32006216, -0.04686255,\n",
       "         -0.05491231],\n",
       "        [ 0.2823306 ,  0.32852712, -0.20855522,  0.02711833, -0.22425753,\n",
       "         -1.0913866 , -0.56539696,  0.1902737 ,  0.6708718 , -0.22375609,\n",
       "         -0.39386857],\n",
       "        [ 1.3459879 , -0.4205331 , -0.01097884, -1.4929813 , -0.070605  ,\n",
       "         -1.3800589 , -0.8395887 , -0.15009129, -0.38986957, -1.0855979 ,\n",
       "          1.1234972 ],\n",
       "        [-0.00974678,  1.1500762 , -0.19735126, -0.31691214, -0.10726731,\n",
       "          0.10953064,  0.24417236, -0.1134086 ,  0.20494299,  0.08869985,\n",
       "         -0.27594826],\n",
       "        [-0.26127324, -0.5253721 ,  0.33763465, -0.543167  , -0.10883988,\n",
       "          0.14150317,  0.13935485, -1.192106  ,  0.15112467,  0.10841393,\n",
       "         -0.31133163],\n",
       "        [ 0.06050269, -0.09494821, -0.4474635 , -0.04478083, -0.444995  ,\n",
       "          0.01705798, -0.07269716,  0.11377018, -0.5071094 ,  0.2646493 ,\n",
       "         -0.13558583],\n",
       "        [-0.0570197 , -0.20227753,  0.04938105, -0.2012431 ,  0.5489705 ,\n",
       "         -0.2771879 ,  0.33339888,  0.40468672,  0.34254625,  0.0813952 ,\n",
       "         -0.87549216],\n",
       "        [-0.06047386,  0.02287489,  0.40752462, -0.20488182,  0.36535603,\n",
       "          0.63106805, -0.17315912,  0.47105983, -0.03203989,  0.04427956,\n",
       "          0.68507874],\n",
       "        [ 0.04605616, -0.7719503 ,  0.07965148, -0.22876723,  0.06227408,\n",
       "         -0.02280399,  0.30684137,  0.69855106,  1.0107648 ,  0.04152715,\n",
       "         -0.30439728]], dtype=float32),\n",
       " array([-0.4155512 ,  0.1885191 ,  0.11587013,  0.12415445,  0.8762317 ,\n",
       "        -0.1964298 ,  0.59217095,  0.43553302,  0.11552017, -0.15029946,\n",
       "         0.20368007], dtype=float32)]"
      ]
     },
     "execution_count": 43,
     "metadata": {},
     "output_type": "execute_result"
    }
   ],
   "source": [
    "model.layers[0].get_weights()"
   ]
  },
  {
   "cell_type": "code",
   "execution_count": 44,
   "id": "3b40aa6c",
   "metadata": {
    "execution": {
     "iopub.execute_input": "2023-06-05T13:37:26.004090Z",
     "iopub.status.busy": "2023-06-05T13:37:26.003616Z",
     "iopub.status.idle": "2023-06-05T13:37:26.015637Z",
     "shell.execute_reply": "2023-06-05T13:37:26.014307Z"
    },
    "papermill": {
     "duration": 0.189669,
     "end_time": "2023-06-05T13:37:26.018640",
     "exception": false,
     "start_time": "2023-06-05T13:37:25.828971",
     "status": "completed"
    },
    "tags": []
   },
   "outputs": [
    {
     "data": {
      "text/plain": [
       "[array([[ 0.95542747, -0.393171  ,  0.01048969,  0.02483978, -0.20408794,\n",
       "         -2.0498817 , -0.24629907, -1.0697504 ,  1.058575  , -0.4767202 ,\n",
       "          0.19813463],\n",
       "        [-0.145688  , -0.6675769 ,  0.6363738 , -0.45691592,  0.67257494,\n",
       "          0.2998005 , -0.22449133, -1.6404543 ,  0.48418048,  0.12987176,\n",
       "          0.28172174],\n",
       "        [ 0.16896483, -0.0132453 , -0.17256182,  0.95952284, -0.28996176,\n",
       "         -0.42646766, -1.1639534 ,  0.36884433,  0.23657204, -0.05725358,\n",
       "         -1.1841677 ],\n",
       "        [ 0.61852515,  0.5507056 , -0.43442726, -0.5848508 , -0.33256304,\n",
       "          0.34556583,  0.02671546, -0.38678005,  0.61314213,  0.16078943,\n",
       "          0.42789528],\n",
       "        [-0.21755306,  0.41379187,  0.4493363 , -1.1471131 , -0.12703162,\n",
       "          0.2937512 , -0.569795  , -0.9822107 ,  0.2726367 ,  0.14671372,\n",
       "          0.08534956],\n",
       "        [ 0.17382744, -1.2058519 ,  0.6966731 , -0.6305528 , -1.0346162 ,\n",
       "          0.43884718, -0.03384056,  0.1652372 ,  0.74514204,  0.5518071 ,\n",
       "         -0.36343792],\n",
       "        [ 0.07531703,  0.47906733, -0.60659254, -0.1010492 ,  0.46291256,\n",
       "         -0.09058735,  0.37678617,  0.35023588, -0.17579228,  0.5746029 ,\n",
       "          0.1943524 ],\n",
       "        [ 0.39535084,  0.12397931,  0.49438646, -0.24749075,  0.01340329,\n",
       "          0.3738327 ,  0.46146253, -0.9904316 ,  0.62851536, -0.05931477,\n",
       "          0.0828126 ],\n",
       "        [ 0.8966242 ,  0.04720591, -0.34345224, -0.34369612,  0.40884593,\n",
       "          0.24043737, -0.3402558 ,  0.1923245 , -0.35271022, -0.78168595,\n",
       "          0.22056271],\n",
       "        [ 0.14628457, -0.77036506, -0.26224667,  0.7412268 ,  0.22888261,\n",
       "          0.49974197, -0.24099572, -0.3718787 ,  0.28776342, -0.4728623 ,\n",
       "         -0.5392033 ],\n",
       "        [ 0.6827145 ,  0.17111811,  0.07547605, -0.9561053 , -0.14502668,\n",
       "         -0.27885872,  0.13260314,  0.3270218 ,  0.6288256 ,  0.44537568,\n",
       "          0.44209957]], dtype=float32),\n",
       " array([-0.01764227,  0.4396254 ,  0.22007608, -0.5703232 ,  0.5997888 ,\n",
       "        -0.06614045,  0.57292604, -0.3938851 , -0.06087437,  0.4201904 ,\n",
       "         0.12703042], dtype=float32)]"
      ]
     },
     "execution_count": 44,
     "metadata": {},
     "output_type": "execute_result"
    }
   ],
   "source": [
    "model.layers[1].get_weights()"
   ]
  },
  {
   "cell_type": "code",
   "execution_count": 45,
   "id": "75da2e71",
   "metadata": {
    "execution": {
     "iopub.execute_input": "2023-06-05T13:37:26.365775Z",
     "iopub.status.busy": "2023-06-05T13:37:26.365296Z",
     "iopub.status.idle": "2023-06-05T13:37:26.758184Z",
     "shell.execute_reply": "2023-06-05T13:37:26.756641Z"
    },
    "papermill": {
     "duration": 0.571367,
     "end_time": "2023-06-05T13:37:26.761091",
     "exception": false,
     "start_time": "2023-06-05T13:37:26.189724",
     "status": "completed"
    },
    "tags": []
   },
   "outputs": [
    {
     "name": "stdout",
     "output_type": "stream",
     "text": [
      "100/100 [==============================] - 0s 1ms/step\n"
     ]
    }
   ],
   "source": [
    "y_log = model.predict(X_test_scaled)"
   ]
  },
  {
   "cell_type": "code",
   "execution_count": 46,
   "id": "e29f6d03",
   "metadata": {
    "execution": {
     "iopub.execute_input": "2023-06-05T13:37:27.178487Z",
     "iopub.status.busy": "2023-06-05T13:37:27.178012Z",
     "iopub.status.idle": "2023-06-05T13:37:27.184160Z",
     "shell.execute_reply": "2023-06-05T13:37:27.182907Z"
    },
    "papermill": {
     "duration": 0.255028,
     "end_time": "2023-06-05T13:37:27.186507",
     "exception": false,
     "start_time": "2023-06-05T13:37:26.931479",
     "status": "completed"
    },
    "tags": []
   },
   "outputs": [],
   "source": [
    "y_pred = np.where(y_log > 0.5, 1, 0)"
   ]
  },
  {
   "cell_type": "code",
   "execution_count": 47,
   "id": "47b28e23",
   "metadata": {
    "execution": {
     "iopub.execute_input": "2023-06-05T13:37:27.528971Z",
     "iopub.status.busy": "2023-06-05T13:37:27.528451Z",
     "iopub.status.idle": "2023-06-05T13:37:27.537765Z",
     "shell.execute_reply": "2023-06-05T13:37:27.536426Z"
    },
    "papermill": {
     "duration": 0.182909,
     "end_time": "2023-06-05T13:37:27.540716",
     "exception": false,
     "start_time": "2023-06-05T13:37:27.357807",
     "status": "completed"
    },
    "tags": []
   },
   "outputs": [
    {
     "data": {
      "text/plain": [
       "0.7900188323917138"
      ]
     },
     "execution_count": 47,
     "metadata": {},
     "output_type": "execute_result"
    }
   ],
   "source": [
    "accuracy_score(y_test, y_pred)"
   ]
  }
 ],
 "metadata": {
  "kernelspec": {
   "display_name": "Python 3",
   "language": "python",
   "name": "python3"
  },
  "language_info": {
   "codemirror_mode": {
    "name": "ipython",
    "version": 3
   },
   "file_extension": ".py",
   "mimetype": "text/x-python",
   "name": "python",
   "nbconvert_exporter": "python",
   "pygments_lexer": "ipython3",
   "version": "3.10.10"
  },
  "papermill": {
   "default_parameters": {},
   "duration": 123.97389,
   "end_time": "2023-06-05T13:37:30.911362",
   "environment_variables": {},
   "exception": null,
   "input_path": "__notebook__.ipynb",
   "output_path": "__notebook__.ipynb",
   "parameters": {},
   "start_time": "2023-06-05T13:35:26.937472",
   "version": "2.4.0"
  }
 },
 "nbformat": 4,
 "nbformat_minor": 5
}
